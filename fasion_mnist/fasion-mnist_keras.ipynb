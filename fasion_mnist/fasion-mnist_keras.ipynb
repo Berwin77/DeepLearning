{
 "cells": [
  {
   "cell_type": "code",
   "execution_count": 1,
   "metadata": {},
   "outputs": [
    {
     "name": "stdout",
     "output_type": "stream",
     "text": [
      "[[ 0.  0.  0. ...,  0.  0.  0.]\n",
      " [ 0.  0.  0. ...,  0.  0.  0.]\n",
      " [ 0.  0.  0. ...,  0.  0.  0.]\n",
      " [ 0.  0.  0. ...,  0.  0.  0.]\n",
      " [ 0.  0.  0. ...,  0.  0.  0.]]\n"
     ]
    }
   ],
   "source": [
    "import os\n",
    "import gzip\n",
    "import numpy as np\n",
    "\n",
    "\n",
    "def load_mnist(path, kind='train'):\n",
    "    \"\"\"Load MNIST data from `path`\"\"\"\n",
    "    labels_path = os.path.join(path,\n",
    "                               '%s-labels-idx1-ubyte.gz'\n",
    "                               % kind)\n",
    "    images_path = os.path.join(path,\n",
    "                               '%s-images-idx3-ubyte.gz'\n",
    "                               % kind)\n",
    "\n",
    "    with gzip.open(labels_path, 'rb') as lbpath:\n",
    "        labels = np.frombuffer(lbpath.read(), dtype=np.uint8,\n",
    "                               offset=8)\n",
    "\n",
    "    with gzip.open(images_path, 'rb') as imgpath:\n",
    "        images = np.frombuffer(imgpath.read(), dtype=np.uint8,\n",
    "                               offset=16).reshape(len(labels), 784)\n",
    "\n",
    "    return images, labels\n",
    "\n",
    "X_train, y_train = load_mnist('data', kind='train')\n",
    "X_test, y_test = load_mnist('data', kind='t10k')\n",
    "X_train = np.array(X_train) \n",
    "y_train = np.array(y_train) \n",
    "X_test = np.array(X_test) \n",
    "y_test = np.array(y_test) \n",
    "\n",
    "\n",
    "\n",
    "\n",
    "\n",
    "def normalize(x):\n",
    "    y = (x-np.min(x))/(np.max(x)-np.min(x))\n",
    "    return y\n",
    "\n",
    "X_train = normalize(X_train)\n",
    "X_test = normalize(X_test)\n",
    "print(X_train[:5])\n",
    "\n",
    "from sklearn import preprocessing\n",
    "# from keras import backend as K\n",
    "# y_train = K.one_hot(y_train, 10)\n",
    "# from keras.utils import np_utils   \n",
    "# y_train_ohe = np_utils.to_categorical(y_train)  \n",
    "def one_hot_encode(x):\n",
    "    lb = preprocessing.LabelBinarizer()\n",
    "    lb.fit(range(10))\n",
    "    return lb.transform(x)\n",
    "y_train = one_hot_encode(y_train)\n",
    "y_test = one_hot_encode(y_test)\n",
    "#print(y_train.shape)\n",
    "#print(y_train[:5])\n",
    "\n",
    "X_train = X_train.reshape(-1, 28, 28,1).astype('float32')  \n",
    "X_test = X_test.reshape(-1,28, 28,1).astype('float32')  \n"
   ]
  },
  {
   "cell_type": "code",
   "execution_count": 4,
   "metadata": {
    "scrolled": true
   },
   "outputs": [],
   "source": [
    "\n",
    "from keras.models import Sequential\n",
    "from keras.layers import Dense, Activation, Dropout, Flatten, GlobalAveragePooling2D\n",
    "from keras.layers import Conv2D, MaxPooling2D, Input, GlobalMaxPooling2D\n",
    "from keras import backend as K\n",
    "from keras.optimizers import SGD\n",
    "from keras.models import Model\n",
    "from keras.utils import get_file\n",
    "## decode_predictions 输出5个最高概率：(类名, 语义概念, 预测概率) decode_predictions(y_pred)\n",
    "from keras.applications.imagenet_utils import decode_predictions\n",
    "\n",
    "#  预处理 图像编码服从规定，譬如,RGB，GBR这一类的，preprocess_input(x)  \n",
    "from keras.applications.imagenet_utils import _obtain_input_shape\n",
    "\n",
    "#确定适当的输入形状，相当于opencv中的read.img，将图像变为数组\n",
    "from keras.engine.topology import get_source_inputs\n",
    "\n",
    "\n",
    "\n",
    "\n",
    "def ConvNetwork(classes=10):\n",
    "    \n",
    "    img_input = Input(shape=(28, 28, 1))\n",
    "    #Block1\n",
    "    x = Conv2D(64, (3,3), activation='relu', padding='same', name='block1_conv1')(img_input)\n",
    "    x = Conv2D(64, (3,3), activation='relu', padding='same', name='block1_conv2')(x)\n",
    "    x = MaxPooling2D((2,2), strides=(2,2), name='block1_pool')(x)\n",
    "    \n",
    "    #block2\n",
    "    x = Conv2D(128, (3,3), activation='relu', padding='same', name='block2_conv1')(x)\n",
    "    x = Conv2D(128, (3,3), activation='relu', padding='same', name='block2_conv2')(x)\n",
    "    x = MaxPooling2D((2,2), strides=(2,2), name='block2_pool')(x)\n",
    "\n",
    "    \n",
    "    x = Flatten(name='flatten')(x)\n",
    "    #FC1\n",
    "    x = Dense(1000, name='fc1_d')(x)\n",
    "    x = Activation('relu', name='fc1_a')(x)\n",
    "    #FC2\n",
    "    x = Dense(500, name='fc2_d')(x)\n",
    "    x = Activation('relu', name='fc2_a')(x)\n",
    "\n",
    "    #softmax\n",
    "    x = Dense(classes, name='soft_max1')(x)\n",
    "    predictions = Activation('softmax', name='soft_max2')(x)\n",
    "\n",
    "    inputs = img_input\n",
    "    model = Model(inputs, predictions, name='CNN')\n",
    "    \n",
    "    return model \n",
    "\n",
    "\n"
   ]
  },
  {
   "cell_type": "code",
   "execution_count": 9,
   "metadata": {
    "scrolled": true
   },
   "outputs": [
    {
     "name": "stdout",
     "output_type": "stream",
     "text": [
      "Epoch 1/10\n",
      "60000/60000 [==============================] - 475s - loss: 0.7153 - acc: 0.7396   \n",
      "Epoch 2/10\n",
      "60000/60000 [==============================] - 492s - loss: 0.4167 - acc: 0.8481   \n",
      "Epoch 3/10\n",
      "60000/60000 [==============================] - 539s - loss: 0.3542 - acc: 0.8707   \n",
      "Epoch 4/10\n",
      "60000/60000 [==============================] - 536s - loss: 0.3164 - acc: 0.8843   \n",
      "Epoch 5/10\n",
      "60000/60000 [==============================] - 543s - loss: 0.2878 - acc: 0.8943   \n",
      "Epoch 6/10\n",
      "60000/60000 [==============================] - 515s - loss: 0.2649 - acc: 0.9025   \n",
      "Epoch 7/10\n",
      "60000/60000 [==============================] - 515s - loss: 0.2459 - acc: 0.9083   \n",
      "Epoch 8/10\n",
      "60000/60000 [==============================] - 519s - loss: 0.2281 - acc: 0.9141   \n",
      "Epoch 9/10\n",
      "60000/60000 [==============================] - 509s - loss: 0.2124 - acc: 0.9217   \n",
      "Epoch 10/10\n",
      "60000/60000 [==============================] - 531s - loss: 0.1969 - acc: 0.9261   \n"
     ]
    },
    {
     "ename": "NameError",
     "evalue": "name 'x_test' is not defined",
     "output_type": "error",
     "traceback": [
      "\u001b[0;31m---------------------------------------------------------------------------\u001b[0m",
      "\u001b[0;31mNameError\u001b[0m                                 Traceback (most recent call last)",
      "\u001b[0;32m<ipython-input-9-cf0439d580a5>\u001b[0m in \u001b[0;36m<module>\u001b[0;34m()\u001b[0m\n\u001b[1;32m      6\u001b[0m     metrics=['accuracy'])  \n\u001b[1;32m      7\u001b[0m     \u001b[0mmodel\u001b[0m\u001b[0;34m.\u001b[0m\u001b[0mfit\u001b[0m\u001b[0;34m(\u001b[0m\u001b[0mX_train\u001b[0m\u001b[0;34m,\u001b[0m \u001b[0my_train\u001b[0m\u001b[0;34m,\u001b[0m \u001b[0mepochs\u001b[0m\u001b[0;34m=\u001b[0m\u001b[0;36m10\u001b[0m\u001b[0;34m,\u001b[0m \u001b[0mbatch_size\u001b[0m\u001b[0;34m=\u001b[0m\u001b[0;36m32\u001b[0m\u001b[0;34m,\u001b[0m\u001b[0mshuffle\u001b[0m\u001b[0;34m=\u001b[0m\u001b[0;32mTrue\u001b[0m\u001b[0;34m)\u001b[0m\u001b[0;34m\u001b[0m\u001b[0m\n\u001b[0;32m----> 8\u001b[0;31m     \u001b[0mmodel\u001b[0m\u001b[0;34m.\u001b[0m\u001b[0mevaluate\u001b[0m\u001b[0;34m(\u001b[0m\u001b[0mx_test\u001b[0m\u001b[0;34m,\u001b[0m \u001b[0my_test\u001b[0m\u001b[0;34m,\u001b[0m \u001b[0mverbose\u001b[0m\u001b[0;34m=\u001b[0m\u001b[0;36m0\u001b[0m\u001b[0;34m)\u001b[0m\u001b[0;34m\u001b[0m\u001b[0m\n\u001b[0m",
      "\u001b[0;31mNameError\u001b[0m: name 'x_test' is not defined"
     ]
    }
   ],
   "source": [
    "if __name__ == '__main__':\n",
    "    \n",
    "    model = ConvNetwork(10)\n",
    "    sgd = SGD(lr=0.1, momentum=0.9)\n",
    "    model.compile(optimizer='sgd', loss='categorical_crossentropy', \n",
    "    metrics=['accuracy'])  \n",
    "    model.fit(X_train, y_train, epochs=10, batch_size=32,shuffle=True)\n",
    "    model.evaluate(X_test, y_test, verbose=0)"
   ]
  },
  {
   "cell_type": "markdown",
   "metadata": {
    "collapsed": true
   },
   "source": [
    " "
   ]
  }
 ],
 "metadata": {
  "kernelspec": {
   "display_name": "Python 3",
   "language": "python",
   "name": "python3"
  },
  "language_info": {
   "codemirror_mode": {
    "name": "ipython",
    "version": 3
   },
   "file_extension": ".py",
   "mimetype": "text/x-python",
   "name": "python",
   "nbconvert_exporter": "python",
   "pygments_lexer": "ipython3",
   "version": "3.6.3"
  }
 },
 "nbformat": 4,
 "nbformat_minor": 2
}
