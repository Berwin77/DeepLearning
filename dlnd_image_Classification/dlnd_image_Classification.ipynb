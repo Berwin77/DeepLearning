{
 "cells": [
  {
   "cell_type": "markdown",
   "metadata": {
    "collapsed": true
   },
   "source": [
    "# Image Classification\n",
    "数据集来自 [CIFAR-10 dataset](https://www.cs.toronto.edu/~kriz/cifar.html) \n",
    "## Get the Data\n",
    "首先运行下载数据集 [CIFAR-10 dataset for python](https://www.cs.toronto.edu/~kriz/cifar-10-python.tar.gz)."
   ]
  },
  {
   "cell_type": "code",
   "execution_count": 3,
   "metadata": {},
   "outputs": [
    {
     "name": "stdout",
     "output_type": "stream",
     "text": [
      "All files found!\n"
     ]
    }
   ],
   "source": [
    "\"\"\"\n",
    "DON'T MODIFY ANYTHING IN THIS CELL THAT IS BELOW THIS LINE\n",
    "\"\"\"\n",
    "from urllib.request import urlretrieve\n",
    "from os.path import isfile, isdir\n",
    "from tqdm import tqdm\n",
    "import tarfile\n",
    "\n",
    "cifar10_dataset_folder_path = 'cifar-10-batches-py'\n",
    "\n",
    "# Use Floyd's cifar-10 dataset if present\n",
    "floyd_cifar10_location = '/cifar/cifar-10-python.tar.gz'\n",
    "if isfile(floyd_cifar10_location):\n",
    "    tar_gz_path = floyd_cifar10_location\n",
    "else:\n",
    "    tar_gz_path = 'cifar-10-python.tar.gz'\n",
    "\n",
    "class DLProgress(tqdm):\n",
    "    last_block = 0\n",
    "\n",
    "    def hook(self, block_num=1, block_size=1, total_size=None):\n",
    "        self.total = total_size\n",
    "        self.update((block_num - self.last_block) * block_size)\n",
    "        self.last_block = block_num\n",
    "\n",
    "if not isfile(tar_gz_path):\n",
    "    with DLProgress(unit='B', unit_scale=True, miniters=1, desc='CIFAR-10 Dataset') as pbar:\n",
    "        urlretrieve(\n",
    "            'https://www.cs.toronto.edu/~kriz/cifar-10-python.tar.gz',\n",
    "            tar_gz_path,\n",
    "            pbar.hook)\n",
    "\n",
    "if not isdir(cifar10_dataset_folder_path):\n",
    "    with tarfile.open(tar_gz_path) as tar:\n",
    "        tar.extractall()\n",
    "        tar.close()\n",
    "\n"
   ]
  },
  {
   "cell_type": "markdown",
   "metadata": {},
   "source": [
    "## Explore the Data\n",
    "数据集被分成批以防止您的机器内存不足。 CIFAR-10数据集由5个批次组成，分别命名为data_batch_1，data_batch_2等。每个批次包含下列标签和图像中的一个：\n",
    "* airplane\n",
    "* automobile\n",
    "* bird\n",
    "* cat\n",
    "* deer\n",
    "* dog\n",
    "* frog\n",
    "* horse\n",
    "* ship\n",
    "* truck\n",
    "\n",
    "理解数据集是对数据进行预测的一部分。 通过改变`batch_id`和`sample_id`来改变下面的代码单元。 `batch_id`是批次（1-5）的ID。 `sample_id`是批次中图像和标签对的标识。\n"
   ]
  },
  {
   "cell_type": "code",
   "execution_count": 4,
   "metadata": {},
   "outputs": [
    {
     "name": "stdout",
     "output_type": "stream",
     "text": [
      "\n",
      "Stats of batch 1:\n",
      "Samples: 10000\n",
      "Label Counts: {0: 1005, 1: 974, 2: 1032, 3: 1016, 4: 999, 5: 937, 6: 1030, 7: 1001, 8: 1025, 9: 981}\n",
      "First 20 Labels: [6, 9, 9, 4, 1, 1, 2, 7, 8, 3, 4, 7, 7, 2, 9, 9, 9, 3, 2, 6]\n",
      "\n",
      "Example of Image 5:\n",
      "Image - Min Value: 0 Max Value: 252\n",
      "Image - Shape: (32, 32, 3)\n",
      "Label - Label Id: 1 Name: automobile\n"
     ]
    },
    {
     "data": {
      "image/png": "[encoded data removed]",
      "text/plain": [
       "<matplotlib.figure.Figure at 0x114d25240>"
      ]
     },
     "metadata": {
      "image/png": {
       "height": 250,
       "width": 253
      }
     },
     "output_type": "display_data"
    }
   ],
   "source": [
    "%matplotlib inline\n",
    "%config InlineBackend.figure_format = 'retina'\n",
    "\n",
    "import helper\n",
    "import numpy as np\n",
    "\n",
    "# Explore the dataset\n",
    "batch_id = 1\n",
    "sample_id = 5\n",
    "helper.display_stats(cifar10_dataset_folder_path, batch_id, sample_id)"
   ]
  },
  {
   "cell_type": "markdown",
   "metadata": {},
   "source": [
    "## Implement Preprocess Functions\n",
    "### Normalize\n",
    "归一化使x的数值在0-1之间"
   ]
  },
  {
   "cell_type": "code",
   "execution_count": 5,
   "metadata": {},
   "outputs": [
    {
     "name": "stdout",
     "output_type": "stream",
     "text": [
      "Tests Passed\n"
     ]
    }
   ],
   "source": [
    "import numpy as np\n",
    "def normalize(x):\n",
    "    \n",
    "    \n",
    "    y = (x - np.min(x))/(np.max(x)=np.min(x))\n",
    "    \n",
    "    return y\n",
    "\n"
   ]
  },
  {
   "cell_type": "markdown",
   "metadata": {},
   "source": [
    "### One-hot encode\n",
    "实现`one_hot_encode`函数。 输入“x”是一个标签列表。 实现函数将标签列表返回为一个热编码的Numpy数组, 标签的可能值是0到9."
   ]
  },
  {
   "cell_type": "code",
   "execution_count": 6,
   "metadata": {},
   "outputs": [
    {
     "name": "stdout",
     "output_type": "stream",
     "text": [
      "Tests Passed\n"
     ]
    }
   ],
   "source": [
    "from sklearn import preprocessing\n",
    "import numpy as np\n",
    "def one_hot_encode(x):\n",
    "\n",
    "    lb = preprocessing.LabelBinarizer()\n",
    "    lb.fit([0,1,2,3,4,5,6,7,8,9])\n",
    "    return lb.transform(x)\n"
   ]
  },
  {
   "cell_type": "markdown",
   "metadata": {},
   "source": [
    "### Randomize Data\n",
    "本次样本已经随机化。"
   ]
  },
  {
   "cell_type": "markdown",
   "metadata": {},
   "source": [
    "## Preprocess all the data and save it\n",
    "运行代码单元将预处理所有CIFAR-10数据并将其保存到文件中。 下面的代码也使用了10％的训练数据进行验证。"
   ]
  },
  {
   "cell_type": "code",
   "execution_count": 7,
   "metadata": {
    "collapsed": true
   },
   "outputs": [],
   "source": [
    "\n",
    "helper.preprocess_and_save_data(cifar10_dataset_folder_path, normalize, one_hot_encode)"
   ]
  },
  {
   "cell_type": "markdown",
   "metadata": {},
   "source": [
    "# Check Point\n",
    "重启时从此运行即可。"
   ]
  },
  {
   "cell_type": "code",
   "execution_count": 8,
   "metadata": {
    "collapsed": true
   },
   "outputs": [],
   "source": [
    "\n",
    "import pickle\n",
    "import problem_unittests as tests\n",
    "import helper\n",
    "\n",
    "valid_features, valid_labels = pickle.load(open('preprocess_validation.p', mode='rb'))"
   ]
  },
  {
   "cell_type": "markdown",
   "metadata": {},
   "source": [
    "## Build the network\n",
    "构建网络\n",
    "\n",
    "### Input\n",
    "输入"
   ]
  },
  {
   "cell_type": "code",
   "execution_count": 9,
   "metadata": {},
   "outputs": [
    {
     "name": "stdout",
     "output_type": "stream",
     "text": [
      "Image Input Tests Passed.\n",
      "Label Input Tests Passed.\n",
      "Keep Prob Tests Passed.\n"
     ]
    }
   ],
   "source": [
    "import tensorflow as tf\n",
    "\n",
    "def neural_net_image_input(image_shape):\n",
    "\n",
    "    W = tf.placeholder(dtype=tf.float32, shape=[None, image_shape[0], image_shape[1], image_shape[2]], name='x')\n",
    "    return W\n",
    "\n",
    "\n",
    "def neural_net_label_input(n_classes):\n",
    "\n",
    "    Y = tf.placeholder(dtype=tf.float32, shape=[None, n_classes], name='y')\n",
    "    return Y\n",
    "\n",
    "\n",
    "def neural_net_keep_prob_input():\n",
    "\n",
    "    keep_prob_input = tf.placeholder(dtype=tf.float32, name='keep_prob')\n",
    "    return keep_prob_input\n",
    "\n",
    "\n"
   ]
  },
  {
   "cell_type": "markdown",
   "metadata": {},
   "source": [
    "### Convolution and Max Pooling Layer\n",
    "构建卷积池化层"
   ]
  },
  {
   "cell_type": "code",
   "execution_count": 10,
   "metadata": {},
   "outputs": [
    {
     "name": "stdout",
     "output_type": "stream",
     "text": [
      "Tests Passed\n"
     ]
    }
   ],
   "source": [
    "def conv2d_maxpool(x_tensor, conv_num_outputs, conv_ksize, conv_strides, pool_ksize, pool_strides):\n",
    "\n",
    "\n",
    "    #直接tensor的shape类型是Dimension 必须要转成list 用as_list\n",
    "    depth = x_tensor.get_shape().as_list()[3]\n",
    "\n",
    "    weights = tf.Variable(tf.truncated_normal(stddev=0.1,shape=[conv_ksize[0], conv_ksize[1], depth,conv_num_outputs]),dtype=tf.float32)\n",
    "    biases = tf.Variable(tf.truncated_normal([conv_num_outputs]),dtype=tf.float32)\n",
    "    conv = tf.nn.conv2d(x_tensor, weights,[1,conv_strides[0], conv_strides[1], 1], 'SAME')\n",
    "    conv = tf.nn.bias_add(conv, biases)\n",
    "    conv = tf.nn.relu(conv)\n",
    "    pool = tf.nn.max_pool(conv, [1, pool_ksize[0], pool_ksize[1], 1], [1, pool_strides[0],pool_strides[1], 1], 'SAME')\n",
    "    \n",
    "    return pool \n",
    "\n",
    "\n",
    "\n",
    "   \n",
    "\n",
    "\n"
   ]
  },
  {
   "cell_type": "markdown",
   "metadata": {},
   "source": [
    "### Flatten Layer\n",
    "平铺上层的输出，使输出和全连接层的输入维度相同"
   ]
  },
  {
   "cell_type": "code",
   "execution_count": 11,
   "metadata": {},
   "outputs": [
    {
     "name": "stdout",
     "output_type": "stream",
     "text": [
      "Tests Passed\n"
     ]
    }
   ],
   "source": [
    "def flatten(x_tensor):\n",
    "\n",
    "    flattened_image_size = np.prod(x_tensor.get_shape().as_list()[1:])\n",
    "    flat_inputs = tf.reshape(x_tensor,[-1,flattened_image_size])\n",
    "\n",
    "    \n",
    "    return flat_inputs\n"
   ]
  },
  {
   "cell_type": "markdown",
   "metadata": {},
   "source": [
    "### Fully-Connected Layer\n",
    "全连接层"
   ]
  },
  {
   "cell_type": "code",
   "execution_count": 12,
   "metadata": {},
   "outputs": [
    {
     "name": "stdout",
     "output_type": "stream",
     "text": [
      "Tests Passed\n"
     ]
    }
   ],
   "source": [
    "def fully_conn(x_tensor, num_outputs):\n",
    "###注意，一定要设置W的sttdev方差值，用默认值或许使权重初始化错误\n",
    "    x_size_list=x_tensor.get_shape().as_list()\n",
    "    weight=tf.Variable(tf.truncated_normal(stddev=0.1,shape=[x_size_list[1],num_outputs]),dtype=tf.float32)\n",
    "    bias=tf.Variable(tf.zeros([num_outputs]),dtype=tf.float32)\n",
    "    out = tf.matmul(x_tensor, weight)\n",
    "    out = tf.add(out, bias)\n",
    "    out = tf.nn.relu(out)\n",
    "    return out\n"
   ]
  },
  {
   "cell_type": "markdown",
   "metadata": {},
   "source": [
    "### Output Layer\n",
    "输出层"
   ]
  },
  {
   "cell_type": "code",
   "execution_count": 13,
   "metadata": {},
   "outputs": [
    {
     "name": "stdout",
     "output_type": "stream",
     "text": [
      "Tests Passed\n"
     ]
    }
   ],
   "source": [
    "def output(x_tensor, num_outputs):\n",
    "\n",
    "    image_shape = x_tensor.get_shape().as_list()\n",
    "    weights = tf.Variable(tf.truncated_normal([image_shape[1], num_outputs],0,0.01),dtype=tf.float32)\n",
    "    bias = tf.Variable(tf.zeros([num_outputs]), dtype=tf.float32)\n",
    "    outputs = tf.add(tf.matmul(x_tensor, weights),bias)\n",
    "    return outputs\n"
   ]
  },
  {
   "cell_type": "markdown",
   "metadata": {},
   "source": [
    "### Create Convolutional Model\n",
    "创建卷积模型"
   ]
  },
  {
   "cell_type": "code",
   "execution_count": 17,
   "metadata": {},
   "outputs": [
    {
     "name": "stdout",
     "output_type": "stream",
     "text": [
      "Neural Network Built!\n"
     ]
    }
   ],
   "source": [
    "def conv_net(x, keep_prob):\n",
    "\n",
    "    conv_ksize=(2,2)\n",
    "    conv_strides=(2,2)\n",
    "    pool_ksize=(2,2)\n",
    "    pool_strides=(2,2)\n",
    "    conv_maxpool1 = conv2d_maxpool(x, 120, conv_ksize, (1,1), pool_ksize, pool_strides)\n",
    "    conv_maxpool1 = tf.nn.dropout(conv_maxpool1, keep_prob)\n",
    "    conv_maxpool2 = conv2d_maxpool(conv_maxpool1, 300, conv_ksize, (1,1), pool_ksize, pool_strides)\n",
    "    conv_maxpool2 = tf.nn.dropout(conv_maxpool2, keep_prob)\n",
    "    conv_maxpool3 = conv2d_maxpool(conv_maxpool2, 128,conv_ksize, conv_strides, pool_ksize, pool_strides)\n",
    "\n",
    "    output_conv = flatten(conv_maxpool3)\n",
    "\n",
    "    fc1 = fully_conn(output_conv, 384)\n",
    "    fc1 = tf.nn.dropout(fc1, keep_prob)\n",
    "    fc2 = fully_conn(fc1, 128)\n",
    "    #fc2 = tf.nn.dropout(fc2, keep_prob)\n",
    "\n",
    "    output_final = output(fc2, 10)\n",
    "    \n",
    "    \n",
    "\n",
    "    return output_final\n",
    "\n",
    "\n",
    "\n",
    "\n",
    "tf.reset_default_graph()\n",
    "\n",
    "# Inputs\n",
    "x = neural_net_image_input((32, 32, 3))\n",
    "y = neural_net_label_input(10)\n",
    "keep_prob = neural_net_keep_prob_input()\n",
    "\n",
    "# Model\n",
    "logits = conv_net(x, keep_prob)\n",
    "\n",
    "# Name logits Tensor, so that is can be loaded from disk after training\n",
    "logits = tf.identity(logits, name='logits')\n",
    "\n",
    "# Loss and Optimizer\n",
    "cost = tf.reduce_mean(tf.nn.softmax_cross_entropy_with_logits(logits=logits, labels=y))\n",
    "optimizer = tf.train.AdamOptimizer().minimize(cost)\n",
    "\n",
    "# Accuracy\n",
    "correct_pred = tf.equal(tf.argmax(logits, 1), tf.argmax(y, 1))\n",
    "accuracy = tf.reduce_mean(tf.cast(correct_pred, tf.float32), name='accuracy')\n",
    "\n",
    "tests.test_conv_net(conv_net)"
   ]
  },
  {
   "cell_type": "markdown",
   "metadata": {},
   "source": [
    "## Train the Neural Network\n",
    "### Single Optimization\n",
    "实现函数`train_neural_network`来做一次优化。 优化应该使用`optimizer`来优化`session`中的`feed_dict`如下：\n",
    "*`x`用于图像输入\n",
    "*‘y’是标签值\n",
    "*`keep_prob`dropout概率\n",
    "\n",
    "这个函数将被调用，因此`tf.global_variables_initializer（）`已经被调用。\n",
    "\n",
    "不需要返回。 这个功能只是优化神经网络。"
   ]
  },
  {
   "cell_type": "code",
   "execution_count": 18,
   "metadata": {},
   "outputs": [
    {
     "name": "stdout",
     "output_type": "stream",
     "text": [
      "Tests Passed\n"
     ]
    }
   ],
   "source": [
    "def train_neural_network(session, optimizer, keep_probability, feature_batch, label_batch):\n",
    "\n",
    "    \n",
    "    session.run(optimizer, feed_dict={x:feature_batch, y:label_batch, keep_prob:keep_probability})\n",
    "    "
   ]
  },
  {
   "cell_type": "markdown",
   "metadata": {},
   "source": [
    "### Show Stats\n",
    "显示统计\n",
    "打印和验证的loss损失和准确性。 使用全局变量`valid_features`和`valid_labels`来计算验证的准确性。 使用keepout概率“1.0”来计算损失和验证的准确性。"
   ]
  },
  {
   "cell_type": "code",
   "execution_count": 19,
   "metadata": {
    "collapsed": true
   },
   "outputs": [],
   "source": [
    "def print_stats(session, feature_batch, label_batch, cost, accuracy):\n",
    "\n",
    "    loss = session.run(cost, feed_dict={x:feature_batch, y:label_batch, keep_prob:1.0})\n",
    "    valid_accur = session.run(accuracy, feed_dict={x:valid_features, y:valid_labels, keep_prob: 1.})\n",
    "    print('Loss: {:>10.4f} Validation Accuracy: {:.6f}'.format(loss,valid_accur))\n",
    "    "
   ]
  },
  {
   "cell_type": "markdown",
   "metadata": {},
   "source": [
    "### Hyperparameters\n",
    "超参数的设置"
   ]
  },
  {
   "cell_type": "code",
   "execution_count": 21,
   "metadata": {
    "collapsed": true
   },
   "outputs": [],
   "source": [
    "\n",
    "epochs = 100\n",
    "batch_size = 128\n",
    "keep_probability = 0.8"
   ]
  },
  {
   "cell_type": "markdown",
   "metadata": {},
   "source": [
    "### Train on a Single CIFAR-10 Batch\n",
    "在单一的CIFAR-10批次上训练\n",
    "而不是在所有CIFAR-10批次的数据上训练神经网络，让我们使用一个批次。 这样在迭代模型时可以节省时间，以获得更好的精度。 一旦最终验证准确度达到某一个好的值，再在所有数据上运行模型。"
   ]
  },
  {
   "cell_type": "code",
   "execution_count": 18,
   "metadata": {},
   "outputs": [
    {
     "name": "stdout",
     "output_type": "stream",
     "text": [
      "Checking the Training on a Single Batch...\n",
      "Epoch  1, CIFAR-10 Batch 1:  Loss:     2.3001 Validation Accuracy: 0.115200\n",
      "Epoch  2, CIFAR-10 Batch 1:  Loss:     2.2690 Validation Accuracy: 0.176400\n",
      "Epoch  3, CIFAR-10 Batch 1:  Loss:     2.2160 Validation Accuracy: 0.233400\n",
      "Epoch  4, CIFAR-10 Batch 1:  Loss:     2.1825 Validation Accuracy: 0.260400\n",
      "Epoch  5, CIFAR-10 Batch 1:  Loss:     2.1503 Validation Accuracy: 0.269000\n",
      "Epoch  6, CIFAR-10 Batch 1:  Loss:     2.1242 Validation Accuracy: 0.304200\n",
      "Epoch  7, CIFAR-10 Batch 1:  Loss:     2.1032 Validation Accuracy: 0.322200\n",
      "Epoch  8, CIFAR-10 Batch 1:  Loss:     2.0586 Validation Accuracy: 0.332400\n",
      "Epoch  9, CIFAR-10 Batch 1:  Loss:     2.0156 Validation Accuracy: 0.354400\n",
      "Epoch 10, CIFAR-10 Batch 1:  Loss:     1.8822 Validation Accuracy: 0.372800\n",
      "Epoch 11, CIFAR-10 Batch 1:  Loss:     1.7624 Validation Accuracy: 0.379600\n",
      "Epoch 12, CIFAR-10 Batch 1:  Loss:     1.6899 Validation Accuracy: 0.406000\n",
      "Epoch 13, CIFAR-10 Batch 1:  Loss:     1.6351 Validation Accuracy: 0.408400\n",
      "Epoch 14, CIFAR-10 Batch 1:  Loss:     1.5472 Validation Accuracy: 0.415600\n",
      "Epoch 15, CIFAR-10 Batch 1:  Loss:     1.5267 Validation Accuracy: 0.424800\n",
      "Epoch 16, CIFAR-10 Batch 1:  Loss:     1.4708 Validation Accuracy: 0.429600\n",
      "Epoch 17, CIFAR-10 Batch 1:  Loss:     1.4679 Validation Accuracy: 0.431800\n",
      "Epoch 18, CIFAR-10 Batch 1:  Loss:     1.4452 Validation Accuracy: 0.434800\n",
      "Epoch 19, CIFAR-10 Batch 1:  Loss:     1.3795 Validation Accuracy: 0.448400\n",
      "Epoch 20, CIFAR-10 Batch 1:  Loss:     1.2954 Validation Accuracy: 0.452200\n",
      "Epoch 21, CIFAR-10 Batch 1:  Loss:     1.2873 Validation Accuracy: 0.457000\n",
      "Epoch 22, CIFAR-10 Batch 1:  Loss:     1.2315 Validation Accuracy: 0.462600\n",
      "Epoch 23, CIFAR-10 Batch 1:  Loss:     1.2144 Validation Accuracy: 0.469200\n",
      "Epoch 24, CIFAR-10 Batch 1:  Loss:     1.1322 Validation Accuracy: 0.467600\n",
      "Epoch 25, CIFAR-10 Batch 1:  Loss:     1.0839 Validation Accuracy: 0.471600\n",
      "Epoch 26, CIFAR-10 Batch 1:  Loss:     0.9967 Validation Accuracy: 0.475400\n",
      "Epoch 27, CIFAR-10 Batch 1:  Loss:     1.0232 Validation Accuracy: 0.477400\n",
      "Epoch 28, CIFAR-10 Batch 1:  Loss:     0.9780 Validation Accuracy: 0.480000\n",
      "Epoch 29, CIFAR-10 Batch 1:  Loss:     0.9315 Validation Accuracy: 0.492600\n",
      "Epoch 30, CIFAR-10 Batch 1:  Loss:     0.8746 Validation Accuracy: 0.497400\n",
      "Epoch 31, CIFAR-10 Batch 1:  Loss:     0.8332 Validation Accuracy: 0.500600\n",
      "Epoch 32, CIFAR-10 Batch 1:  Loss:     0.8024 Validation Accuracy: 0.503600\n",
      "Epoch 33, CIFAR-10 Batch 1:  Loss:     0.7847 Validation Accuracy: 0.501800\n",
      "Epoch 34, CIFAR-10 Batch 1:  Loss:     0.7383 Validation Accuracy: 0.505800\n",
      "Epoch 35, CIFAR-10 Batch 1:  Loss:     0.7041 Validation Accuracy: 0.508200\n",
      "Epoch 36, CIFAR-10 Batch 1:  Loss:     0.6795 Validation Accuracy: 0.500200\n",
      "Epoch 37, CIFAR-10 Batch 1:  Loss:     0.6857 Validation Accuracy: 0.509200\n",
      "Epoch 38, CIFAR-10 Batch 1:  Loss:     0.6505 Validation Accuracy: 0.503600\n",
      "Epoch 39, CIFAR-10 Batch 1:  Loss:     0.6077 Validation Accuracy: 0.503600\n",
      "Epoch 40, CIFAR-10 Batch 1:  Loss:     0.5605 Validation Accuracy: 0.511400\n",
      "Epoch 41, CIFAR-10 Batch 1:  Loss:     0.5818 Validation Accuracy: 0.506200\n",
      "Epoch 42, CIFAR-10 Batch 1:  Loss:     0.5255 Validation Accuracy: 0.506800\n",
      "Epoch 43, CIFAR-10 Batch 1:  Loss:     0.4979 Validation Accuracy: 0.501000\n",
      "Epoch 44, CIFAR-10 Batch 1:  Loss:     0.5119 Validation Accuracy: 0.505800\n",
      "Epoch 45, CIFAR-10 Batch 1:  Loss:     0.5112 Validation Accuracy: 0.515800\n",
      "Epoch 46, CIFAR-10 Batch 1:  Loss:     0.4393 Validation Accuracy: 0.508400\n",
      "Epoch 47, CIFAR-10 Batch 1:  Loss:     0.4070 Validation Accuracy: 0.503400\n",
      "Epoch 48, CIFAR-10 Batch 1:  Loss:     0.3931 Validation Accuracy: 0.509800\n",
      "Epoch 49, CIFAR-10 Batch 1:  Loss:     0.3651 Validation Accuracy: 0.511200\n",
      "Epoch 50, CIFAR-10 Batch 1:  Loss:     0.3822 Validation Accuracy: 0.507800\n",
      "Epoch 51, CIFAR-10 Batch 1:  Loss:     0.3363 Validation Accuracy: 0.512000\n",
      "Epoch 52, CIFAR-10 Batch 1:  Loss:     0.2731 Validation Accuracy: 0.505600\n",
      "Epoch 53, CIFAR-10 Batch 1:  Loss:     0.2483 Validation Accuracy: 0.514800\n",
      "Epoch 54, CIFAR-10 Batch 1:  Loss:     0.2310 Validation Accuracy: 0.514000\n",
      "Epoch 55, CIFAR-10 Batch 1:  Loss:     0.2048 Validation Accuracy: 0.513600\n",
      "Epoch 56, CIFAR-10 Batch 1:  Loss:     0.1888 Validation Accuracy: 0.513800\n",
      "Epoch 57, CIFAR-10 Batch 1:  Loss:     0.2018 Validation Accuracy: 0.513600\n",
      "Epoch 58, CIFAR-10 Batch 1:  Loss:     0.2058 Validation Accuracy: 0.509600\n",
      "Epoch 59, CIFAR-10 Batch 1:  Loss:     0.1827 Validation Accuracy: 0.504800\n",
      "Epoch 60, CIFAR-10 Batch 1:  Loss:     0.1675 Validation Accuracy: 0.517800\n",
      "Epoch 61, CIFAR-10 Batch 1:  Loss:     0.1393 Validation Accuracy: 0.516600\n",
      "Epoch 62, CIFAR-10 Batch 1:  Loss:     0.1470 Validation Accuracy: 0.521800\n",
      "Epoch 63, CIFAR-10 Batch 1:  Loss:     0.1189 Validation Accuracy: 0.510000\n",
      "Epoch 64, CIFAR-10 Batch 1:  Loss:     0.1114 Validation Accuracy: 0.504200\n",
      "Epoch 65, CIFAR-10 Batch 1:  Loss:     0.1328 Validation Accuracy: 0.512400\n",
      "Epoch 66, CIFAR-10 Batch 1:  Loss:     0.0997 Validation Accuracy: 0.510600\n",
      "Epoch 67, CIFAR-10 Batch 1:  Loss:     0.1129 Validation Accuracy: 0.510800\n",
      "Epoch 68, CIFAR-10 Batch 1:  Loss:     0.0881 Validation Accuracy: 0.508800\n",
      "Epoch 69, CIFAR-10 Batch 1:  Loss:     0.0935 Validation Accuracy: 0.504200\n",
      "Epoch 70, CIFAR-10 Batch 1:  Loss:     0.0873 Validation Accuracy: 0.509600\n",
      "Epoch 71, CIFAR-10 Batch 1:  Loss:     0.0960 Validation Accuracy: 0.513600\n",
      "Epoch 72, CIFAR-10 Batch 1:  Loss:     0.0928 Validation Accuracy: 0.506600\n",
      "Epoch 73, CIFAR-10 Batch 1:  Loss:     0.0706 Validation Accuracy: 0.513400\n",
      "Epoch 74, CIFAR-10 Batch 1:  Loss:     0.0842 Validation Accuracy: 0.499200\n",
      "Epoch 75, CIFAR-10 Batch 1:  Loss:     0.0882 Validation Accuracy: 0.495400\n",
      "Epoch 76, CIFAR-10 Batch 1:  Loss:     0.0747 Validation Accuracy: 0.497800\n",
      "Epoch 77, CIFAR-10 Batch 1:  Loss:     0.0559 Validation Accuracy: 0.502800\n",
      "Epoch 78, CIFAR-10 Batch 1:  Loss:     0.0567 Validation Accuracy: 0.503000\n",
      "Epoch 79, CIFAR-10 Batch 1:  Loss:     0.0631 Validation Accuracy: 0.495200\n",
      "Epoch 80, CIFAR-10 Batch 1:  Loss:     0.0575 Validation Accuracy: 0.507400\n",
      "Epoch 81, CIFAR-10 Batch 1:  Loss:     0.0491 Validation Accuracy: 0.499600\n",
      "Epoch 82, CIFAR-10 Batch 1:  Loss:     0.0472 Validation Accuracy: 0.500400\n",
      "Epoch 83, CIFAR-10 Batch 1:  Loss:     0.0515 Validation Accuracy: 0.501400\n",
      "Epoch 84, CIFAR-10 Batch 1:  Loss:     0.0552 Validation Accuracy: 0.503800\n",
      "Epoch 85, CIFAR-10 Batch 1:  Loss:     0.0428 Validation Accuracy: 0.509600\n",
      "Epoch 86, CIFAR-10 Batch 1:  Loss:     0.0502 Validation Accuracy: 0.507800\n",
      "Epoch 87, CIFAR-10 Batch 1:  Loss:     0.0434 Validation Accuracy: 0.511800\n",
      "Epoch 88, CIFAR-10 Batch 1:  Loss:     0.0294 Validation Accuracy: 0.514000\n",
      "Epoch 89, CIFAR-10 Batch 1:  Loss:     0.0251 Validation Accuracy: 0.519600\n",
      "Epoch 90, CIFAR-10 Batch 1:  Loss:     0.0247 Validation Accuracy: 0.513800\n",
      "Epoch 91, CIFAR-10 Batch 1:  Loss:     0.0235 Validation Accuracy: 0.515600\n",
      "Epoch 92, CIFAR-10 Batch 1:  Loss:     0.0372 Validation Accuracy: 0.518000\n",
      "Epoch 93, CIFAR-10 Batch 1:  Loss:     0.0226 Validation Accuracy: 0.516000\n",
      "Epoch 94, CIFAR-10 Batch 1:  Loss:     0.0279 Validation Accuracy: 0.526600\n",
      "Epoch 95, CIFAR-10 Batch 1:  Loss:     0.0209 Validation Accuracy: 0.512000\n",
      "Epoch 96, CIFAR-10 Batch 1:  Loss:     0.0262 Validation Accuracy: 0.521800\n",
      "Epoch 97, CIFAR-10 Batch 1:  Loss:     0.0211 Validation Accuracy: 0.522400\n",
      "Epoch 98, CIFAR-10 Batch 1:  Loss:     0.0233 Validation Accuracy: 0.517000\n",
      "Epoch 99, CIFAR-10 Batch 1:  Loss:     0.0183 Validation Accuracy: 0.517800\n",
      "Epoch 100, CIFAR-10 Batch 1:  Loss:     0.0199 Validation Accuracy: 0.518600\n"
     ]
    }
   ],
   "source": [
    "\n",
    "print('Checking the Training on a Single Batch...')\n",
    "with tf.Session() as sess:\n",
    "    # Initializing the variables\n",
    "    sess.run(tf.global_variables_initializer())\n",
    "    \n",
    "    # Training cycle \n",
    "    for epoch in range(epochs):\n",
    "        batch_i = 1\n",
    "        for batch_features, batch_labels in helper.load_preprocess_training_batch(batch_i, batch_size):\n",
    "            train_neural_network(sess, optimizer, keep_probability, batch_features, batch_labels)\n",
    "        print('Epoch {:>2}, CIFAR-10 Batch {}:  '.format(epoch + 1, batch_i), end='')\n",
    "        print_stats(sess, batch_features, batch_labels, cost, accuracy)"
   ]
  },
  {
   "cell_type": "markdown",
   "metadata": {},
   "source": [
    "### Fully Train the Model\n",
    "在整个训练集上训练。"
   ]
  },
  {
   "cell_type": "code",
   "execution_count": 22,
   "metadata": {},
   "outputs": [
    {
     "name": "stdout",
     "output_type": "stream",
     "text": [
      "Training...\n",
      "Epoch  1, CIFAR-10 Batch 1:  Loss:     2.2948 Validation Accuracy: 0.112400\n",
      "Epoch  1, CIFAR-10 Batch 2:  Loss:     2.1222 Validation Accuracy: 0.235600\n",
      "Epoch  1, CIFAR-10 Batch 3:  Loss:     2.0203 Validation Accuracy: 0.234200\n",
      "Epoch  1, CIFAR-10 Batch 4:  Loss:     2.0777 Validation Accuracy: 0.259600\n",
      "Epoch  1, CIFAR-10 Batch 5:  Loss:     1.9579 Validation Accuracy: 0.315800\n",
      "Epoch  2, CIFAR-10 Batch 1:  Loss:     2.0731 Validation Accuracy: 0.348000\n",
      "Epoch  2, CIFAR-10 Batch 2:  Loss:     1.9451 Validation Accuracy: 0.359800\n",
      "Epoch  2, CIFAR-10 Batch 3:  Loss:     1.5896 Validation Accuracy: 0.384600\n",
      "Epoch  2, CIFAR-10 Batch 4:  Loss:     1.7206 Validation Accuracy: 0.381600\n",
      "Epoch  2, CIFAR-10 Batch 5:  Loss:     1.8295 Validation Accuracy: 0.400200\n",
      "Epoch  3, CIFAR-10 Batch 1:  Loss:     1.7768 Validation Accuracy: 0.426200\n",
      "Epoch  3, CIFAR-10 Batch 2:  Loss:     1.6920 Validation Accuracy: 0.436600\n",
      "Epoch  3, CIFAR-10 Batch 3:  Loss:     1.3886 Validation Accuracy: 0.434000\n",
      "Epoch  3, CIFAR-10 Batch 4:  Loss:     1.4877 Validation Accuracy: 0.451600\n",
      "Epoch  3, CIFAR-10 Batch 5:  Loss:     1.6022 Validation Accuracy: 0.458400\n",
      "Epoch  4, CIFAR-10 Batch 1:  Loss:     1.6658 Validation Accuracy: 0.463000\n",
      "Epoch  4, CIFAR-10 Batch 2:  Loss:     1.5428 Validation Accuracy: 0.474400\n",
      "Epoch  4, CIFAR-10 Batch 3:  Loss:     1.2208 Validation Accuracy: 0.484200\n",
      "Epoch  4, CIFAR-10 Batch 4:  Loss:     1.3302 Validation Accuracy: 0.487400\n",
      "Epoch  4, CIFAR-10 Batch 5:  Loss:     1.4914 Validation Accuracy: 0.487800\n",
      "Epoch  5, CIFAR-10 Batch 1:  Loss:     1.4748 Validation Accuracy: 0.492400\n",
      "Epoch  5, CIFAR-10 Batch 2:  Loss:     1.3787 Validation Accuracy: 0.506400\n",
      "Epoch  5, CIFAR-10 Batch 3:  Loss:     1.0907 Validation Accuracy: 0.514800\n",
      "Epoch  5, CIFAR-10 Batch 4:  Loss:     1.2163 Validation Accuracy: 0.504200\n",
      "Epoch  5, CIFAR-10 Batch 5:  Loss:     1.3681 Validation Accuracy: 0.507000\n",
      "Epoch  6, CIFAR-10 Batch 1:  Loss:     1.3378 Validation Accuracy: 0.508800\n",
      "Epoch  6, CIFAR-10 Batch 2:  Loss:     1.3178 Validation Accuracy: 0.519600\n",
      "Epoch  6, CIFAR-10 Batch 3:  Loss:     1.0243 Validation Accuracy: 0.527600\n",
      "Epoch  6, CIFAR-10 Batch 4:  Loss:     1.0752 Validation Accuracy: 0.523600\n",
      "Epoch  6, CIFAR-10 Batch 5:  Loss:     1.2388 Validation Accuracy: 0.524400\n",
      "Epoch  7, CIFAR-10 Batch 1:  Loss:     1.2342 Validation Accuracy: 0.524000\n",
      "Epoch  7, CIFAR-10 Batch 2:  Loss:     1.2424 Validation Accuracy: 0.541000\n",
      "Epoch  7, CIFAR-10 Batch 3:  Loss:     0.9734 Validation Accuracy: 0.539000\n",
      "Epoch  7, CIFAR-10 Batch 4:  Loss:     0.9583 Validation Accuracy: 0.541000\n",
      "Epoch  7, CIFAR-10 Batch 5:  Loss:     1.1461 Validation Accuracy: 0.536000\n",
      "Epoch  8, CIFAR-10 Batch 1:  Loss:     1.0759 Validation Accuracy: 0.543000\n",
      "Epoch  8, CIFAR-10 Batch 2:  Loss:     1.0919 Validation Accuracy: 0.549400\n",
      "Epoch  8, CIFAR-10 Batch 3:  Loss:     0.9214 Validation Accuracy: 0.540200\n",
      "Epoch  8, CIFAR-10 Batch 4:  Loss:     0.8516 Validation Accuracy: 0.551200\n",
      "Epoch  8, CIFAR-10 Batch 5:  Loss:     1.0120 Validation Accuracy: 0.556400\n",
      "Epoch  9, CIFAR-10 Batch 1:  Loss:     0.9746 Validation Accuracy: 0.551000\n",
      "Epoch  9, CIFAR-10 Batch 2:  Loss:     0.9800 Validation Accuracy: 0.557800\n",
      "Epoch  9, CIFAR-10 Batch 3:  Loss:     0.8103 Validation Accuracy: 0.568400\n",
      "Epoch  9, CIFAR-10 Batch 4:  Loss:     0.8123 Validation Accuracy: 0.564400\n",
      "Epoch  9, CIFAR-10 Batch 5:  Loss:     0.8906 Validation Accuracy: 0.564600\n",
      "Epoch 10, CIFAR-10 Batch 1:  Loss:     0.9699 Validation Accuracy: 0.563800\n",
      "Epoch 10, CIFAR-10 Batch 2:  Loss:     0.9119 Validation Accuracy: 0.568200\n",
      "Epoch 10, CIFAR-10 Batch 3:  Loss:     0.7743 Validation Accuracy: 0.562600\n",
      "Epoch 10, CIFAR-10 Batch 4:  Loss:     0.7617 Validation Accuracy: 0.572000\n",
      "Epoch 10, CIFAR-10 Batch 5:  Loss:     0.8342 Validation Accuracy: 0.575800\n",
      "Epoch 11, CIFAR-10 Batch 1:  Loss:     0.9320 Validation Accuracy: 0.566200\n",
      "Epoch 11, CIFAR-10 Batch 2:  Loss:     0.8422 Validation Accuracy: 0.569000\n",
      "Epoch 11, CIFAR-10 Batch 3:  Loss:     0.7095 Validation Accuracy: 0.573400\n",
      "Epoch 11, CIFAR-10 Batch 4:  Loss:     0.7075 Validation Accuracy: 0.576400\n",
      "Epoch 11, CIFAR-10 Batch 5:  Loss:     0.6731 Validation Accuracy: 0.588400\n",
      "Epoch 12, CIFAR-10 Batch 1:  Loss:     0.8475 Validation Accuracy: 0.583800\n",
      "Epoch 12, CIFAR-10 Batch 2:  Loss:     0.7604 Validation Accuracy: 0.576400\n",
      "Epoch 12, CIFAR-10 Batch 3:  Loss:     0.7169 Validation Accuracy: 0.570600\n",
      "Epoch 12, CIFAR-10 Batch 4:  Loss:     0.6673 Validation Accuracy: 0.577000\n",
      "Epoch 12, CIFAR-10 Batch 5:  Loss:     0.6229 Validation Accuracy: 0.585200\n",
      "Epoch 13, CIFAR-10 Batch 1:  Loss:     0.7500 Validation Accuracy: 0.574400\n",
      "Epoch 13, CIFAR-10 Batch 2:  Loss:     0.6775 Validation Accuracy: 0.585600\n",
      "Epoch 13, CIFAR-10 Batch 3:  Loss:     0.6791 Validation Accuracy: 0.562800\n",
      "Epoch 13, CIFAR-10 Batch 4:  Loss:     0.5886 Validation Accuracy: 0.592800\n",
      "Epoch 13, CIFAR-10 Batch 5:  Loss:     0.5363 Validation Accuracy: 0.588200\n",
      "Epoch 14, CIFAR-10 Batch 1:  Loss:     0.6950 Validation Accuracy: 0.583000\n",
      "Epoch 14, CIFAR-10 Batch 2:  Loss:     0.6471 Validation Accuracy: 0.591800\n",
      "Epoch 14, CIFAR-10 Batch 3:  Loss:     0.5883 Validation Accuracy: 0.585400\n",
      "Epoch 14, CIFAR-10 Batch 4:  Loss:     0.5416 Validation Accuracy: 0.600800\n",
      "Epoch 14, CIFAR-10 Batch 5:  Loss:     0.5283 Validation Accuracy: 0.598400\n",
      "Epoch 15, CIFAR-10 Batch 1:  Loss:     0.6587 Validation Accuracy: 0.591200\n",
      "Epoch 15, CIFAR-10 Batch 2:  Loss:     0.6055 Validation Accuracy: 0.597000\n",
      "Epoch 15, CIFAR-10 Batch 3:  Loss:     0.5060 Validation Accuracy: 0.598200\n",
      "Epoch 15, CIFAR-10 Batch 4:  Loss:     0.5072 Validation Accuracy: 0.606600\n",
      "Epoch 15, CIFAR-10 Batch 5:  Loss:     0.4696 Validation Accuracy: 0.602600\n",
      "Epoch 16, CIFAR-10 Batch 1:  Loss:     0.6658 Validation Accuracy: 0.598200\n",
      "Epoch 16, CIFAR-10 Batch 2:  Loss:     0.5699 Validation Accuracy: 0.595400\n",
      "Epoch 16, CIFAR-10 Batch 3:  Loss:     0.4813 Validation Accuracy: 0.603600\n",
      "Epoch 16, CIFAR-10 Batch 4:  Loss:     0.4476 Validation Accuracy: 0.609400\n",
      "Epoch 16, CIFAR-10 Batch 5:  Loss:     0.3921 Validation Accuracy: 0.605200\n",
      "Epoch 17, CIFAR-10 Batch 1:  Loss:     0.5250 Validation Accuracy: 0.595000\n",
      "Epoch 17, CIFAR-10 Batch 2:  Loss:     0.5005 Validation Accuracy: 0.596600\n",
      "Epoch 17, CIFAR-10 Batch 3:  Loss:     0.4253 Validation Accuracy: 0.610800\n",
      "Epoch 17, CIFAR-10 Batch 4:  Loss:     0.4152 Validation Accuracy: 0.609400\n",
      "Epoch 17, CIFAR-10 Batch 5:  Loss:     0.3823 Validation Accuracy: 0.610400\n",
      "Epoch 18, CIFAR-10 Batch 1:  Loss:     0.4404 Validation Accuracy: 0.610400\n",
      "Epoch 18, CIFAR-10 Batch 2:  Loss:     0.4761 Validation Accuracy: 0.603000\n",
      "Epoch 18, CIFAR-10 Batch 3:  Loss:     0.3798 Validation Accuracy: 0.605000\n",
      "Epoch 18, CIFAR-10 Batch 4:  Loss:     0.4039 Validation Accuracy: 0.617000\n",
      "Epoch 18, CIFAR-10 Batch 5:  Loss:     0.3296 Validation Accuracy: 0.619400\n",
      "Epoch 19, CIFAR-10 Batch 1:  Loss:     0.4250 Validation Accuracy: 0.614000\n",
      "Epoch 19, CIFAR-10 Batch 2:  Loss:     0.4406 Validation Accuracy: 0.607000\n",
      "Epoch 19, CIFAR-10 Batch 3:  Loss:     0.3598 Validation Accuracy: 0.597800\n",
      "Epoch 19, CIFAR-10 Batch 4:  Loss:     0.4306 Validation Accuracy: 0.607000\n",
      "Epoch 19, CIFAR-10 Batch 5:  Loss:     0.2983 Validation Accuracy: 0.621400\n",
      "Epoch 20, CIFAR-10 Batch 1:  Loss:     0.3952 Validation Accuracy: 0.614800\n",
      "Epoch 20, CIFAR-10 Batch 2:  Loss:     0.3742 Validation Accuracy: 0.601200\n",
      "Epoch 20, CIFAR-10 Batch 3:  Loss:     0.2530 Validation Accuracy: 0.614000\n",
      "Epoch 20, CIFAR-10 Batch 4:  Loss:     0.3579 Validation Accuracy: 0.610800\n",
      "Epoch 20, CIFAR-10 Batch 5:  Loss:     0.2594 Validation Accuracy: 0.621600\n",
      "Epoch 21, CIFAR-10 Batch 1:  Loss:     0.3153 Validation Accuracy: 0.613600\n",
      "Epoch 21, CIFAR-10 Batch 2:  Loss:     0.3534 Validation Accuracy: 0.611400\n",
      "Epoch 21, CIFAR-10 Batch 3:  Loss:     0.3147 Validation Accuracy: 0.618200\n",
      "Epoch 21, CIFAR-10 Batch 4:  Loss:     0.3400 Validation Accuracy: 0.620000\n",
      "Epoch 21, CIFAR-10 Batch 5:  Loss:     0.2190 Validation Accuracy: 0.625400\n",
      "Epoch 22, CIFAR-10 Batch 1:  Loss:     0.3726 Validation Accuracy: 0.614400\n",
      "Epoch 22, CIFAR-10 Batch 2:  Loss:     0.3450 Validation Accuracy: 0.622000\n",
      "Epoch 22, CIFAR-10 Batch 3:  Loss:     0.2471 Validation Accuracy: 0.623600\n"
     ]
    },
    {
     "name": "stdout",
     "output_type": "stream",
     "text": [
      "Epoch 22, CIFAR-10 Batch 4:  Loss:     0.2366 Validation Accuracy: 0.629000\n",
      "Epoch 22, CIFAR-10 Batch 5:  Loss:     0.2124 Validation Accuracy: 0.627000\n",
      "Epoch 23, CIFAR-10 Batch 1:  Loss:     0.2897 Validation Accuracy: 0.619000\n",
      "Epoch 23, CIFAR-10 Batch 2:  Loss:     0.2534 Validation Accuracy: 0.611800\n",
      "Epoch 23, CIFAR-10 Batch 3:  Loss:     0.2033 Validation Accuracy: 0.627800\n",
      "Epoch 23, CIFAR-10 Batch 4:  Loss:     0.2389 Validation Accuracy: 0.628000\n",
      "Epoch 23, CIFAR-10 Batch 5:  Loss:     0.2181 Validation Accuracy: 0.627200\n",
      "Epoch 24, CIFAR-10 Batch 1:  Loss:     0.2386 Validation Accuracy: 0.620000\n",
      "Epoch 24, CIFAR-10 Batch 2:  Loss:     0.3079 Validation Accuracy: 0.635000\n",
      "Epoch 24, CIFAR-10 Batch 3:  Loss:     0.2227 Validation Accuracy: 0.625800\n",
      "Epoch 24, CIFAR-10 Batch 4:  Loss:     0.2023 Validation Accuracy: 0.623400\n",
      "Epoch 24, CIFAR-10 Batch 5:  Loss:     0.1627 Validation Accuracy: 0.642200\n",
      "Epoch 25, CIFAR-10 Batch 1:  Loss:     0.2397 Validation Accuracy: 0.624400\n",
      "Epoch 25, CIFAR-10 Batch 2:  Loss:     0.3243 Validation Accuracy: 0.624200\n",
      "Epoch 25, CIFAR-10 Batch 3:  Loss:     0.1644 Validation Accuracy: 0.633400\n",
      "Epoch 25, CIFAR-10 Batch 4:  Loss:     0.2248 Validation Accuracy: 0.631200\n",
      "Epoch 25, CIFAR-10 Batch 5:  Loss:     0.1470 Validation Accuracy: 0.626200\n",
      "Epoch 26, CIFAR-10 Batch 1:  Loss:     0.2118 Validation Accuracy: 0.626000\n",
      "Epoch 26, CIFAR-10 Batch 2:  Loss:     0.2612 Validation Accuracy: 0.619800\n",
      "Epoch 26, CIFAR-10 Batch 3:  Loss:     0.1390 Validation Accuracy: 0.628800\n",
      "Epoch 26, CIFAR-10 Batch 4:  Loss:     0.1741 Validation Accuracy: 0.634400\n",
      "Epoch 26, CIFAR-10 Batch 5:  Loss:     0.1411 Validation Accuracy: 0.633800\n",
      "Epoch 27, CIFAR-10 Batch 1:  Loss:     0.1927 Validation Accuracy: 0.628000\n",
      "Epoch 27, CIFAR-10 Batch 2:  Loss:     0.2022 Validation Accuracy: 0.622000\n",
      "Epoch 27, CIFAR-10 Batch 3:  Loss:     0.1533 Validation Accuracy: 0.629000\n",
      "Epoch 27, CIFAR-10 Batch 4:  Loss:     0.1850 Validation Accuracy: 0.641600\n",
      "Epoch 27, CIFAR-10 Batch 5:  Loss:     0.1374 Validation Accuracy: 0.632200\n",
      "Epoch 28, CIFAR-10 Batch 1:  Loss:     0.1384 Validation Accuracy: 0.627800\n",
      "Epoch 28, CIFAR-10 Batch 2:  Loss:     0.1895 Validation Accuracy: 0.619600\n",
      "Epoch 28, CIFAR-10 Batch 3:  Loss:     0.1908 Validation Accuracy: 0.623800\n",
      "Epoch 28, CIFAR-10 Batch 4:  Loss:     0.1380 Validation Accuracy: 0.635800\n",
      "Epoch 28, CIFAR-10 Batch 5:  Loss:     0.1269 Validation Accuracy: 0.637000\n",
      "Epoch 29, CIFAR-10 Batch 1:  Loss:     0.1598 Validation Accuracy: 0.628400\n",
      "Epoch 29, CIFAR-10 Batch 2:  Loss:     0.1960 Validation Accuracy: 0.616800\n",
      "Epoch 29, CIFAR-10 Batch 3:  Loss:     0.1097 Validation Accuracy: 0.626200\n",
      "Epoch 29, CIFAR-10 Batch 4:  Loss:     0.1823 Validation Accuracy: 0.636200\n",
      "Epoch 29, CIFAR-10 Batch 5:  Loss:     0.1302 Validation Accuracy: 0.638800\n",
      "Epoch 30, CIFAR-10 Batch 1:  Loss:     0.1456 Validation Accuracy: 0.622000\n",
      "Epoch 30, CIFAR-10 Batch 2:  Loss:     0.1538 Validation Accuracy: 0.627800\n",
      "Epoch 30, CIFAR-10 Batch 3:  Loss:     0.1144 Validation Accuracy: 0.630400\n",
      "Epoch 30, CIFAR-10 Batch 4:  Loss:     0.1352 Validation Accuracy: 0.629200\n",
      "Epoch 30, CIFAR-10 Batch 5:  Loss:     0.1064 Validation Accuracy: 0.641800\n",
      "Epoch 31, CIFAR-10 Batch 1:  Loss:     0.1176 Validation Accuracy: 0.639000\n",
      "Epoch 31, CIFAR-10 Batch 2:  Loss:     0.1829 Validation Accuracy: 0.620800\n",
      "Epoch 31, CIFAR-10 Batch 3:  Loss:     0.1069 Validation Accuracy: 0.634400\n",
      "Epoch 31, CIFAR-10 Batch 4:  Loss:     0.1141 Validation Accuracy: 0.631600\n",
      "Epoch 31, CIFAR-10 Batch 5:  Loss:     0.0909 Validation Accuracy: 0.631200\n",
      "Epoch 32, CIFAR-10 Batch 1:  Loss:     0.1265 Validation Accuracy: 0.632200\n",
      "Epoch 32, CIFAR-10 Batch 2:  Loss:     0.1999 Validation Accuracy: 0.617800\n",
      "Epoch 32, CIFAR-10 Batch 3:  Loss:     0.0927 Validation Accuracy: 0.632600\n",
      "Epoch 32, CIFAR-10 Batch 4:  Loss:     0.1026 Validation Accuracy: 0.638800\n",
      "Epoch 32, CIFAR-10 Batch 5:  Loss:     0.0892 Validation Accuracy: 0.642400\n",
      "Epoch 33, CIFAR-10 Batch 1:  Loss:     0.1061 Validation Accuracy: 0.632600\n",
      "Epoch 33, CIFAR-10 Batch 2:  Loss:     0.1037 Validation Accuracy: 0.625200\n",
      "Epoch 33, CIFAR-10 Batch 3:  Loss:     0.0690 Validation Accuracy: 0.631600\n",
      "Epoch 33, CIFAR-10 Batch 4:  Loss:     0.0873 Validation Accuracy: 0.638000\n",
      "Epoch 33, CIFAR-10 Batch 5:  Loss:     0.0868 Validation Accuracy: 0.641000\n",
      "Epoch 34, CIFAR-10 Batch 1:  Loss:     0.1065 Validation Accuracy: 0.639600\n",
      "Epoch 34, CIFAR-10 Batch 2:  Loss:     0.1024 Validation Accuracy: 0.621600\n",
      "Epoch 34, CIFAR-10 Batch 3:  Loss:     0.0860 Validation Accuracy: 0.630000\n",
      "Epoch 34, CIFAR-10 Batch 4:  Loss:     0.1037 Validation Accuracy: 0.637600\n",
      "Epoch 34, CIFAR-10 Batch 5:  Loss:     0.0485 Validation Accuracy: 0.647000\n",
      "Epoch 35, CIFAR-10 Batch 1:  Loss:     0.0870 Validation Accuracy: 0.623000\n",
      "Epoch 35, CIFAR-10 Batch 2:  Loss:     0.0991 Validation Accuracy: 0.628000\n",
      "Epoch 35, CIFAR-10 Batch 3:  Loss:     0.0917 Validation Accuracy: 0.632200\n",
      "Epoch 35, CIFAR-10 Batch 4:  Loss:     0.0851 Validation Accuracy: 0.640600\n",
      "Epoch 35, CIFAR-10 Batch 5:  Loss:     0.0830 Validation Accuracy: 0.643400\n",
      "Epoch 36, CIFAR-10 Batch 1:  Loss:     0.0742 Validation Accuracy: 0.638800\n",
      "Epoch 36, CIFAR-10 Batch 2:  Loss:     0.1139 Validation Accuracy: 0.631800\n",
      "Epoch 36, CIFAR-10 Batch 3:  Loss:     0.0724 Validation Accuracy: 0.635200\n",
      "Epoch 36, CIFAR-10 Batch 4:  Loss:     0.0735 Validation Accuracy: 0.637400\n",
      "Epoch 36, CIFAR-10 Batch 5:  Loss:     0.0552 Validation Accuracy: 0.646000\n",
      "Epoch 37, CIFAR-10 Batch 1:  Loss:     0.0820 Validation Accuracy: 0.634200\n",
      "Epoch 37, CIFAR-10 Batch 2:  Loss:     0.1009 Validation Accuracy: 0.609000\n",
      "Epoch 37, CIFAR-10 Batch 3:  Loss:     0.0444 Validation Accuracy: 0.636600\n",
      "Epoch 37, CIFAR-10 Batch 4:  Loss:     0.1065 Validation Accuracy: 0.639000\n",
      "Epoch 37, CIFAR-10 Batch 5:  Loss:     0.0554 Validation Accuracy: 0.645400\n",
      "Epoch 38, CIFAR-10 Batch 1:  Loss:     0.0807 Validation Accuracy: 0.638000\n",
      "Epoch 38, CIFAR-10 Batch 2:  Loss:     0.0606 Validation Accuracy: 0.631800\n",
      "Epoch 38, CIFAR-10 Batch 3:  Loss:     0.0620 Validation Accuracy: 0.636800\n",
      "Epoch 38, CIFAR-10 Batch 4:  Loss:     0.0969 Validation Accuracy: 0.641200\n",
      "Epoch 38, CIFAR-10 Batch 5:  Loss:     0.0503 Validation Accuracy: 0.642600\n",
      "Epoch 39, CIFAR-10 Batch 1:  Loss:     0.0657 Validation Accuracy: 0.638800\n",
      "Epoch 39, CIFAR-10 Batch 2:  Loss:     0.0696 Validation Accuracy: 0.614000\n",
      "Epoch 39, CIFAR-10 Batch 3:  Loss:     0.0437 Validation Accuracy: 0.630800\n",
      "Epoch 39, CIFAR-10 Batch 4:  Loss:     0.0725 Validation Accuracy: 0.638600\n",
      "Epoch 39, CIFAR-10 Batch 5:  Loss:     0.0576 Validation Accuracy: 0.640200\n",
      "Epoch 40, CIFAR-10 Batch 1:  Loss:     0.0571 Validation Accuracy: 0.635400\n",
      "Epoch 40, CIFAR-10 Batch 2:  Loss:     0.0708 Validation Accuracy: 0.611200\n",
      "Epoch 40, CIFAR-10 Batch 3:  Loss:     0.0464 Validation Accuracy: 0.627600\n",
      "Epoch 40, CIFAR-10 Batch 4:  Loss:     0.0484 Validation Accuracy: 0.641000\n",
      "Epoch 40, CIFAR-10 Batch 5:  Loss:     0.0552 Validation Accuracy: 0.633000\n",
      "Epoch 41, CIFAR-10 Batch 1:  Loss:     0.0553 Validation Accuracy: 0.640200\n",
      "Epoch 41, CIFAR-10 Batch 2:  Loss:     0.0710 Validation Accuracy: 0.628000\n",
      "Epoch 41, CIFAR-10 Batch 3:  Loss:     0.0389 Validation Accuracy: 0.627600\n",
      "Epoch 41, CIFAR-10 Batch 4:  Loss:     0.0560 Validation Accuracy: 0.641400\n",
      "Epoch 41, CIFAR-10 Batch 5:  Loss:     0.0364 Validation Accuracy: 0.641400\n",
      "Epoch 42, CIFAR-10 Batch 1:  Loss:     0.0397 Validation Accuracy: 0.640200\n",
      "Epoch 42, CIFAR-10 Batch 2:  Loss:     0.0677 Validation Accuracy: 0.622600\n",
      "Epoch 42, CIFAR-10 Batch 3:  Loss:     0.0541 Validation Accuracy: 0.631600\n",
      "Epoch 42, CIFAR-10 Batch 4:  Loss:     0.0641 Validation Accuracy: 0.638800\n",
      "Epoch 42, CIFAR-10 Batch 5:  Loss:     0.0395 Validation Accuracy: 0.634800\n",
      "Epoch 43, CIFAR-10 Batch 1:  Loss:     0.0555 Validation Accuracy: 0.631400\n",
      "Epoch 43, CIFAR-10 Batch 2:  Loss:     0.0397 Validation Accuracy: 0.615600\n",
      "Epoch 43, CIFAR-10 Batch 3:  Loss:     0.0763 Validation Accuracy: 0.622600\n",
      "Epoch 43, CIFAR-10 Batch 4:  Loss:     0.0654 Validation Accuracy: 0.637200\n",
      "Epoch 43, CIFAR-10 Batch 5:  Loss:     0.0387 Validation Accuracy: 0.634000\n",
      "Epoch 44, CIFAR-10 Batch 1:  Loss:     0.0587 Validation Accuracy: 0.630200\n"
     ]
    },
    {
     "name": "stdout",
     "output_type": "stream",
     "text": [
      "Epoch 44, CIFAR-10 Batch 2:  Loss:     0.0487 Validation Accuracy: 0.626400\n",
      "Epoch 44, CIFAR-10 Batch 3:  Loss:     0.0426 Validation Accuracy: 0.628800\n",
      "Epoch 44, CIFAR-10 Batch 4:  Loss:     0.0506 Validation Accuracy: 0.637400\n",
      "Epoch 44, CIFAR-10 Batch 5:  Loss:     0.0331 Validation Accuracy: 0.639000\n",
      "Epoch 45, CIFAR-10 Batch 1:  Loss:     0.0765 Validation Accuracy: 0.635000\n",
      "Epoch 45, CIFAR-10 Batch 2:  Loss:     0.0411 Validation Accuracy: 0.620400\n",
      "Epoch 45, CIFAR-10 Batch 3:  Loss:     0.0743 Validation Accuracy: 0.623600\n",
      "Epoch 45, CIFAR-10 Batch 4:  Loss:     0.0443 Validation Accuracy: 0.639000\n",
      "Epoch 45, CIFAR-10 Batch 5:  Loss:     0.0323 Validation Accuracy: 0.642000\n",
      "Epoch 46, CIFAR-10 Batch 1:  Loss:     0.0399 Validation Accuracy: 0.627800\n",
      "Epoch 46, CIFAR-10 Batch 2:  Loss:     0.0438 Validation Accuracy: 0.617400\n",
      "Epoch 46, CIFAR-10 Batch 3:  Loss:     0.0326 Validation Accuracy: 0.625600\n",
      "Epoch 46, CIFAR-10 Batch 4:  Loss:     0.0442 Validation Accuracy: 0.629200\n",
      "Epoch 46, CIFAR-10 Batch 5:  Loss:     0.0336 Validation Accuracy: 0.629800\n",
      "Epoch 47, CIFAR-10 Batch 1:  Loss:     0.0512 Validation Accuracy: 0.631600\n",
      "Epoch 47, CIFAR-10 Batch 2:  Loss:     0.0306 Validation Accuracy: 0.624800\n",
      "Epoch 47, CIFAR-10 Batch 3:  Loss:     0.0490 Validation Accuracy: 0.628400\n",
      "Epoch 47, CIFAR-10 Batch 4:  Loss:     0.0345 Validation Accuracy: 0.637400\n",
      "Epoch 47, CIFAR-10 Batch 5:  Loss:     0.0387 Validation Accuracy: 0.641200\n",
      "Epoch 48, CIFAR-10 Batch 1:  Loss:     0.0498 Validation Accuracy: 0.642600\n",
      "Epoch 48, CIFAR-10 Batch 2:  Loss:     0.0315 Validation Accuracy: 0.631000\n",
      "Epoch 48, CIFAR-10 Batch 3:  Loss:     0.0750 Validation Accuracy: 0.615600\n",
      "Epoch 48, CIFAR-10 Batch 4:  Loss:     0.0413 Validation Accuracy: 0.639000\n",
      "Epoch 48, CIFAR-10 Batch 5:  Loss:     0.0403 Validation Accuracy: 0.635200\n",
      "Epoch 49, CIFAR-10 Batch 1:  Loss:     0.0359 Validation Accuracy: 0.634400\n",
      "Epoch 49, CIFAR-10 Batch 2:  Loss:     0.0259 Validation Accuracy: 0.625600\n",
      "Epoch 49, CIFAR-10 Batch 3:  Loss:     0.0304 Validation Accuracy: 0.636600\n",
      "Epoch 49, CIFAR-10 Batch 4:  Loss:     0.0356 Validation Accuracy: 0.638000\n",
      "Epoch 49, CIFAR-10 Batch 5:  Loss:     0.0416 Validation Accuracy: 0.641000\n",
      "Epoch 50, CIFAR-10 Batch 1:  Loss:     0.0334 Validation Accuracy: 0.621600\n",
      "Epoch 50, CIFAR-10 Batch 2:  Loss:     0.0319 Validation Accuracy: 0.623600\n",
      "Epoch 50, CIFAR-10 Batch 3:  Loss:     0.0329 Validation Accuracy: 0.633200\n",
      "Epoch 50, CIFAR-10 Batch 4:  Loss:     0.0375 Validation Accuracy: 0.644400\n",
      "Epoch 50, CIFAR-10 Batch 5:  Loss:     0.0314 Validation Accuracy: 0.639400\n",
      "Epoch 51, CIFAR-10 Batch 1:  Loss:     0.0364 Validation Accuracy: 0.639400\n",
      "Epoch 51, CIFAR-10 Batch 2:  Loss:     0.0301 Validation Accuracy: 0.632000\n",
      "Epoch 51, CIFAR-10 Batch 3:  Loss:     0.0303 Validation Accuracy: 0.614200\n",
      "Epoch 51, CIFAR-10 Batch 4:  Loss:     0.0247 Validation Accuracy: 0.640200\n",
      "Epoch 51, CIFAR-10 Batch 5:  Loss:     0.0213 Validation Accuracy: 0.645400\n",
      "Epoch 52, CIFAR-10 Batch 1:  Loss:     0.0353 Validation Accuracy: 0.628400\n",
      "Epoch 52, CIFAR-10 Batch 2:  Loss:     0.0314 Validation Accuracy: 0.639800\n",
      "Epoch 52, CIFAR-10 Batch 3:  Loss:     0.0507 Validation Accuracy: 0.630000\n",
      "Epoch 52, CIFAR-10 Batch 4:  Loss:     0.0452 Validation Accuracy: 0.641000\n",
      "Epoch 52, CIFAR-10 Batch 5:  Loss:     0.0276 Validation Accuracy: 0.639800\n",
      "Epoch 53, CIFAR-10 Batch 1:  Loss:     0.0272 Validation Accuracy: 0.637800\n",
      "Epoch 53, CIFAR-10 Batch 2:  Loss:     0.0326 Validation Accuracy: 0.635600\n",
      "Epoch 53, CIFAR-10 Batch 3:  Loss:     0.0255 Validation Accuracy: 0.631000\n",
      "Epoch 53, CIFAR-10 Batch 4:  Loss:     0.0289 Validation Accuracy: 0.636000\n",
      "Epoch 53, CIFAR-10 Batch 5:  Loss:     0.0369 Validation Accuracy: 0.636600\n",
      "Epoch 54, CIFAR-10 Batch 1:  Loss:     0.0371 Validation Accuracy: 0.637200\n",
      "Epoch 54, CIFAR-10 Batch 2:  Loss:     0.0198 Validation Accuracy: 0.631200\n",
      "Epoch 54, CIFAR-10 Batch 3:  Loss:     0.0374 Validation Accuracy: 0.625200\n",
      "Epoch 54, CIFAR-10 Batch 4:  Loss:     0.0297 Validation Accuracy: 0.639200\n",
      "Epoch 54, CIFAR-10 Batch 5:  Loss:     0.0380 Validation Accuracy: 0.633600\n",
      "Epoch 55, CIFAR-10 Batch 1:  Loss:     0.0214 Validation Accuracy: 0.632000\n",
      "Epoch 55, CIFAR-10 Batch 2:  Loss:     0.0170 Validation Accuracy: 0.632200\n",
      "Epoch 55, CIFAR-10 Batch 3:  Loss:     0.0411 Validation Accuracy: 0.637800\n",
      "Epoch 55, CIFAR-10 Batch 4:  Loss:     0.0373 Validation Accuracy: 0.631600\n",
      "Epoch 55, CIFAR-10 Batch 5:  Loss:     0.0336 Validation Accuracy: 0.636600\n",
      "Epoch 56, CIFAR-10 Batch 1:  Loss:     0.0223 Validation Accuracy: 0.629800\n",
      "Epoch 56, CIFAR-10 Batch 2:  Loss:     0.0153 Validation Accuracy: 0.634800\n",
      "Epoch 56, CIFAR-10 Batch 3:  Loss:     0.0240 Validation Accuracy: 0.631400\n",
      "Epoch 56, CIFAR-10 Batch 4:  Loss:     0.0345 Validation Accuracy: 0.628000\n",
      "Epoch 56, CIFAR-10 Batch 5:  Loss:     0.0354 Validation Accuracy: 0.640200\n",
      "Epoch 57, CIFAR-10 Batch 1:  Loss:     0.0181 Validation Accuracy: 0.640600\n",
      "Epoch 57, CIFAR-10 Batch 2:  Loss:     0.0208 Validation Accuracy: 0.628800\n",
      "Epoch 57, CIFAR-10 Batch 3:  Loss:     0.0268 Validation Accuracy: 0.627800\n",
      "Epoch 57, CIFAR-10 Batch 4:  Loss:     0.0195 Validation Accuracy: 0.645200\n",
      "Epoch 57, CIFAR-10 Batch 5:  Loss:     0.0349 Validation Accuracy: 0.639000\n",
      "Epoch 58, CIFAR-10 Batch 1:  Loss:     0.0282 Validation Accuracy: 0.637000\n",
      "Epoch 58, CIFAR-10 Batch 2:  Loss:     0.0132 Validation Accuracy: 0.634400\n",
      "Epoch 58, CIFAR-10 Batch 3:  Loss:     0.0165 Validation Accuracy: 0.636600\n",
      "Epoch 58, CIFAR-10 Batch 4:  Loss:     0.0286 Validation Accuracy: 0.631400\n",
      "Epoch 58, CIFAR-10 Batch 5:  Loss:     0.0308 Validation Accuracy: 0.640800\n",
      "Epoch 59, CIFAR-10 Batch 1:  Loss:     0.0296 Validation Accuracy: 0.638600\n",
      "Epoch 59, CIFAR-10 Batch 2:  Loss:     0.0186 Validation Accuracy: 0.636800\n",
      "Epoch 59, CIFAR-10 Batch 3:  Loss:     0.0257 Validation Accuracy: 0.640400\n",
      "Epoch 59, CIFAR-10 Batch 4:  Loss:     0.0218 Validation Accuracy: 0.633000\n",
      "Epoch 59, CIFAR-10 Batch 5:  Loss:     0.0235 Validation Accuracy: 0.635400\n",
      "Epoch 60, CIFAR-10 Batch 1:  Loss:     0.0206 Validation Accuracy: 0.632400\n",
      "Epoch 60, CIFAR-10 Batch 2:  Loss:     0.0129 Validation Accuracy: 0.641200\n",
      "Epoch 60, CIFAR-10 Batch 3:  Loss:     0.0143 Validation Accuracy: 0.636800\n",
      "Epoch 60, CIFAR-10 Batch 4:  Loss:     0.0201 Validation Accuracy: 0.628000\n",
      "Epoch 60, CIFAR-10 Batch 5:  Loss:     0.0255 Validation Accuracy: 0.636600\n",
      "Epoch 61, CIFAR-10 Batch 1:  Loss:     0.0138 Validation Accuracy: 0.633600\n",
      "Epoch 61, CIFAR-10 Batch 2:  Loss:     0.0242 Validation Accuracy: 0.633400\n",
      "Epoch 61, CIFAR-10 Batch 3:  Loss:     0.0138 Validation Accuracy: 0.636000\n",
      "Epoch 61, CIFAR-10 Batch 4:  Loss:     0.0224 Validation Accuracy: 0.629000\n",
      "Epoch 61, CIFAR-10 Batch 5:  Loss:     0.0199 Validation Accuracy: 0.640600\n",
      "Epoch 62, CIFAR-10 Batch 1:  Loss:     0.0158 Validation Accuracy: 0.636800\n",
      "Epoch 62, CIFAR-10 Batch 2:  Loss:     0.0223 Validation Accuracy: 0.634400\n",
      "Epoch 62, CIFAR-10 Batch 3:  Loss:     0.0155 Validation Accuracy: 0.635200\n",
      "Epoch 62, CIFAR-10 Batch 4:  Loss:     0.0137 Validation Accuracy: 0.640200\n",
      "Epoch 62, CIFAR-10 Batch 5:  Loss:     0.0099 Validation Accuracy: 0.640600\n",
      "Epoch 63, CIFAR-10 Batch 1:  Loss:     0.0184 Validation Accuracy: 0.629000\n",
      "Epoch 63, CIFAR-10 Batch 2:  Loss:     0.0135 Validation Accuracy: 0.639000\n",
      "Epoch 63, CIFAR-10 Batch 3:  Loss:     0.0205 Validation Accuracy: 0.644600\n",
      "Epoch 63, CIFAR-10 Batch 4:  Loss:     0.0155 Validation Accuracy: 0.634000\n",
      "Epoch 63, CIFAR-10 Batch 5:  Loss:     0.0138 Validation Accuracy: 0.639000\n",
      "Epoch 64, CIFAR-10 Batch 1:  Loss:     0.0110 Validation Accuracy: 0.639800\n",
      "Epoch 64, CIFAR-10 Batch 2:  Loss:     0.0114 Validation Accuracy: 0.639400\n",
      "Epoch 64, CIFAR-10 Batch 3:  Loss:     0.0108 Validation Accuracy: 0.641600\n",
      "Epoch 64, CIFAR-10 Batch 4:  Loss:     0.0159 Validation Accuracy: 0.634400\n",
      "Epoch 64, CIFAR-10 Batch 5:  Loss:     0.0189 Validation Accuracy: 0.638600\n",
      "Epoch 65, CIFAR-10 Batch 1:  Loss:     0.0142 Validation Accuracy: 0.634000\n",
      "Epoch 65, CIFAR-10 Batch 2:  Loss:     0.0064 Validation Accuracy: 0.636800\n",
      "Epoch 65, CIFAR-10 Batch 3:  Loss:     0.0185 Validation Accuracy: 0.640600\n",
      "Epoch 65, CIFAR-10 Batch 4:  Loss:     0.0122 Validation Accuracy: 0.638000\n"
     ]
    },
    {
     "name": "stdout",
     "output_type": "stream",
     "text": [
      "Epoch 65, CIFAR-10 Batch 5:  Loss:     0.0119 Validation Accuracy: 0.643400\n",
      "Epoch 66, CIFAR-10 Batch 1:  Loss:     0.0294 Validation Accuracy: 0.641200\n",
      "Epoch 66, CIFAR-10 Batch 2:  Loss:     0.0162 Validation Accuracy: 0.638400\n",
      "Epoch 66, CIFAR-10 Batch 3:  Loss:     0.0165 Validation Accuracy: 0.644600\n",
      "Epoch 66, CIFAR-10 Batch 4:  Loss:     0.0087 Validation Accuracy: 0.643200\n",
      "Epoch 66, CIFAR-10 Batch 5:  Loss:     0.0172 Validation Accuracy: 0.640000\n",
      "Epoch 67, CIFAR-10 Batch 1:  Loss:     0.0136 Validation Accuracy: 0.637800\n",
      "Epoch 67, CIFAR-10 Batch 2:  Loss:     0.0186 Validation Accuracy: 0.633200\n",
      "Epoch 67, CIFAR-10 Batch 3:  Loss:     0.0135 Validation Accuracy: 0.635000\n",
      "Epoch 67, CIFAR-10 Batch 4:  Loss:     0.0153 Validation Accuracy: 0.642400\n",
      "Epoch 67, CIFAR-10 Batch 5:  Loss:     0.0165 Validation Accuracy: 0.646600\n",
      "Epoch 68, CIFAR-10 Batch 1:  Loss:     0.0093 Validation Accuracy: 0.639800\n",
      "Epoch 68, CIFAR-10 Batch 2:  Loss:     0.0103 Validation Accuracy: 0.643800\n",
      "Epoch 68, CIFAR-10 Batch 3:  Loss:     0.0076 Validation Accuracy: 0.639800\n",
      "Epoch 68, CIFAR-10 Batch 4:  Loss:     0.0225 Validation Accuracy: 0.639800\n",
      "Epoch 68, CIFAR-10 Batch 5:  Loss:     0.0192 Validation Accuracy: 0.646800\n",
      "Epoch 69, CIFAR-10 Batch 1:  Loss:     0.0106 Validation Accuracy: 0.632000\n",
      "Epoch 69, CIFAR-10 Batch 2:  Loss:     0.0121 Validation Accuracy: 0.637400\n",
      "Epoch 69, CIFAR-10 Batch 3:  Loss:     0.0184 Validation Accuracy: 0.633600\n",
      "Epoch 69, CIFAR-10 Batch 4:  Loss:     0.0199 Validation Accuracy: 0.639600\n",
      "Epoch 69, CIFAR-10 Batch 5:  Loss:     0.0166 Validation Accuracy: 0.643600\n",
      "Epoch 70, CIFAR-10 Batch 1:  Loss:     0.0178 Validation Accuracy: 0.638600\n",
      "Epoch 70, CIFAR-10 Batch 2:  Loss:     0.0231 Validation Accuracy: 0.640200\n",
      "Epoch 70, CIFAR-10 Batch 3:  Loss:     0.0107 Validation Accuracy: 0.640000\n",
      "Epoch 70, CIFAR-10 Batch 4:  Loss:     0.0140 Validation Accuracy: 0.638000\n",
      "Epoch 70, CIFAR-10 Batch 5:  Loss:     0.0193 Validation Accuracy: 0.640200\n",
      "Epoch 71, CIFAR-10 Batch 1:  Loss:     0.0090 Validation Accuracy: 0.648400\n",
      "Epoch 71, CIFAR-10 Batch 2:  Loss:     0.0138 Validation Accuracy: 0.638600\n",
      "Epoch 71, CIFAR-10 Batch 3:  Loss:     0.0133 Validation Accuracy: 0.642400\n",
      "Epoch 71, CIFAR-10 Batch 4:  Loss:     0.0086 Validation Accuracy: 0.641600\n",
      "Epoch 71, CIFAR-10 Batch 5:  Loss:     0.0116 Validation Accuracy: 0.645600\n",
      "Epoch 72, CIFAR-10 Batch 1:  Loss:     0.0114 Validation Accuracy: 0.643200\n",
      "Epoch 72, CIFAR-10 Batch 2:  Loss:     0.0210 Validation Accuracy: 0.635000\n",
      "Epoch 72, CIFAR-10 Batch 3:  Loss:     0.0137 Validation Accuracy: 0.639600\n",
      "Epoch 72, CIFAR-10 Batch 4:  Loss:     0.0110 Validation Accuracy: 0.641200\n",
      "Epoch 72, CIFAR-10 Batch 5:  Loss:     0.0099 Validation Accuracy: 0.638800\n",
      "Epoch 73, CIFAR-10 Batch 1:  Loss:     0.0126 Validation Accuracy: 0.647400\n",
      "Epoch 73, CIFAR-10 Batch 2:  Loss:     0.0120 Validation Accuracy: 0.637200\n",
      "Epoch 73, CIFAR-10 Batch 3:  Loss:     0.0115 Validation Accuracy: 0.645400\n",
      "Epoch 73, CIFAR-10 Batch 4:  Loss:     0.0092 Validation Accuracy: 0.635600\n",
      "Epoch 73, CIFAR-10 Batch 5:  Loss:     0.0162 Validation Accuracy: 0.645400\n",
      "Epoch 74, CIFAR-10 Batch 1:  Loss:     0.0114 Validation Accuracy: 0.640200\n",
      "Epoch 74, CIFAR-10 Batch 2:  Loss:     0.0162 Validation Accuracy: 0.641200\n",
      "Epoch 74, CIFAR-10 Batch 3:  Loss:     0.0137 Validation Accuracy: 0.646000\n",
      "Epoch 74, CIFAR-10 Batch 4:  Loss:     0.0196 Validation Accuracy: 0.642600\n",
      "Epoch 74, CIFAR-10 Batch 5:  Loss:     0.0096 Validation Accuracy: 0.642600\n",
      "Epoch 75, CIFAR-10 Batch 1:  Loss:     0.0210 Validation Accuracy: 0.638200\n",
      "Epoch 75, CIFAR-10 Batch 2:  Loss:     0.0116 Validation Accuracy: 0.634000\n",
      "Epoch 75, CIFAR-10 Batch 3:  Loss:     0.0159 Validation Accuracy: 0.642400\n",
      "Epoch 75, CIFAR-10 Batch 4:  Loss:     0.0193 Validation Accuracy: 0.640600\n",
      "Epoch 75, CIFAR-10 Batch 5:  Loss:     0.0163 Validation Accuracy: 0.638400\n",
      "Epoch 76, CIFAR-10 Batch 1:  Loss:     0.0167 Validation Accuracy: 0.641000\n",
      "Epoch 76, CIFAR-10 Batch 2:  Loss:     0.0156 Validation Accuracy: 0.619000\n",
      "Epoch 76, CIFAR-10 Batch 3:  Loss:     0.0184 Validation Accuracy: 0.640200\n",
      "Epoch 76, CIFAR-10 Batch 4:  Loss:     0.0104 Validation Accuracy: 0.640400\n",
      "Epoch 76, CIFAR-10 Batch 5:  Loss:     0.0104 Validation Accuracy: 0.643800\n",
      "Epoch 77, CIFAR-10 Batch 1:  Loss:     0.0151 Validation Accuracy: 0.632200\n",
      "Epoch 77, CIFAR-10 Batch 2:  Loss:     0.0088 Validation Accuracy: 0.635000\n",
      "Epoch 77, CIFAR-10 Batch 3:  Loss:     0.0148 Validation Accuracy: 0.640800\n",
      "Epoch 77, CIFAR-10 Batch 4:  Loss:     0.0083 Validation Accuracy: 0.639200\n",
      "Epoch 77, CIFAR-10 Batch 5:  Loss:     0.0111 Validation Accuracy: 0.643000\n",
      "Epoch 78, CIFAR-10 Batch 1:  Loss:     0.0098 Validation Accuracy: 0.640400\n",
      "Epoch 78, CIFAR-10 Batch 2:  Loss:     0.0058 Validation Accuracy: 0.631200\n",
      "Epoch 78, CIFAR-10 Batch 3:  Loss:     0.0079 Validation Accuracy: 0.643600\n",
      "Epoch 78, CIFAR-10 Batch 4:  Loss:     0.0346 Validation Accuracy: 0.644200\n",
      "Epoch 78, CIFAR-10 Batch 5:  Loss:     0.0139 Validation Accuracy: 0.646000\n",
      "Epoch 79, CIFAR-10 Batch 1:  Loss:     0.0096 Validation Accuracy: 0.640200\n",
      "Epoch 79, CIFAR-10 Batch 2:  Loss:     0.0086 Validation Accuracy: 0.632600\n",
      "Epoch 79, CIFAR-10 Batch 3:  Loss:     0.0095 Validation Accuracy: 0.640600\n",
      "Epoch 79, CIFAR-10 Batch 4:  Loss:     0.0207 Validation Accuracy: 0.640600\n",
      "Epoch 79, CIFAR-10 Batch 5:  Loss:     0.0104 Validation Accuracy: 0.645200\n",
      "Epoch 80, CIFAR-10 Batch 1:  Loss:     0.0152 Validation Accuracy: 0.641200\n",
      "Epoch 80, CIFAR-10 Batch 2:  Loss:     0.0074 Validation Accuracy: 0.629000\n",
      "Epoch 80, CIFAR-10 Batch 3:  Loss:     0.0182 Validation Accuracy: 0.639400\n",
      "Epoch 80, CIFAR-10 Batch 4:  Loss:     0.0109 Validation Accuracy: 0.636200\n",
      "Epoch 80, CIFAR-10 Batch 5:  Loss:     0.0051 Validation Accuracy: 0.643200\n",
      "Epoch 81, CIFAR-10 Batch 1:  Loss:     0.0240 Validation Accuracy: 0.631600\n",
      "Epoch 81, CIFAR-10 Batch 2:  Loss:     0.0137 Validation Accuracy: 0.642400\n",
      "Epoch 81, CIFAR-10 Batch 3:  Loss:     0.0088 Validation Accuracy: 0.646200\n",
      "Epoch 81, CIFAR-10 Batch 4:  Loss:     0.0108 Validation Accuracy: 0.644400\n",
      "Epoch 81, CIFAR-10 Batch 5:  Loss:     0.0090 Validation Accuracy: 0.647600\n",
      "Epoch 82, CIFAR-10 Batch 1:  Loss:     0.0118 Validation Accuracy: 0.648000\n",
      "Epoch 82, CIFAR-10 Batch 2:  Loss:     0.0138 Validation Accuracy: 0.636800\n",
      "Epoch 82, CIFAR-10 Batch 3:  Loss:     0.0120 Validation Accuracy: 0.641000\n",
      "Epoch 82, CIFAR-10 Batch 4:  Loss:     0.0260 Validation Accuracy: 0.636200\n",
      "Epoch 82, CIFAR-10 Batch 5:  Loss:     0.0151 Validation Accuracy: 0.642800\n",
      "Epoch 83, CIFAR-10 Batch 1:  Loss:     0.0081 Validation Accuracy: 0.640800\n",
      "Epoch 83, CIFAR-10 Batch 2:  Loss:     0.0046 Validation Accuracy: 0.623800\n",
      "Epoch 83, CIFAR-10 Batch 3:  Loss:     0.0080 Validation Accuracy: 0.639800\n",
      "Epoch 83, CIFAR-10 Batch 4:  Loss:     0.0083 Validation Accuracy: 0.639200\n",
      "Epoch 83, CIFAR-10 Batch 5:  Loss:     0.0069 Validation Accuracy: 0.648200\n",
      "Epoch 84, CIFAR-10 Batch 1:  Loss:     0.0157 Validation Accuracy: 0.633600\n",
      "Epoch 84, CIFAR-10 Batch 2:  Loss:     0.0122 Validation Accuracy: 0.636200\n",
      "Epoch 84, CIFAR-10 Batch 3:  Loss:     0.0094 Validation Accuracy: 0.646200\n",
      "Epoch 84, CIFAR-10 Batch 4:  Loss:     0.0340 Validation Accuracy: 0.643800\n",
      "Epoch 84, CIFAR-10 Batch 5:  Loss:     0.0103 Validation Accuracy: 0.640200\n",
      "Epoch 85, CIFAR-10 Batch 1:  Loss:     0.0057 Validation Accuracy: 0.647200\n",
      "Epoch 85, CIFAR-10 Batch 2:  Loss:     0.0096 Validation Accuracy: 0.639000\n",
      "Epoch 85, CIFAR-10 Batch 3:  Loss:     0.0173 Validation Accuracy: 0.632600\n",
      "Epoch 85, CIFAR-10 Batch 4:  Loss:     0.0125 Validation Accuracy: 0.643000\n",
      "Epoch 85, CIFAR-10 Batch 5:  Loss:     0.0139 Validation Accuracy: 0.643600\n",
      "Epoch 86, CIFAR-10 Batch 1:  Loss:     0.0094 Validation Accuracy: 0.641600\n",
      "Epoch 86, CIFAR-10 Batch 2:  Loss:     0.0076 Validation Accuracy: 0.633800\n",
      "Epoch 86, CIFAR-10 Batch 3:  Loss:     0.0178 Validation Accuracy: 0.640800\n",
      "Epoch 86, CIFAR-10 Batch 4:  Loss:     0.0063 Validation Accuracy: 0.641400\n",
      "Epoch 86, CIFAR-10 Batch 5:  Loss:     0.0157 Validation Accuracy: 0.644400\n",
      "Epoch 87, CIFAR-10 Batch 1:  Loss:     0.0056 Validation Accuracy: 0.634400\n",
      "Epoch 87, CIFAR-10 Batch 2:  Loss:     0.0103 Validation Accuracy: 0.634800\n"
     ]
    },
    {
     "name": "stdout",
     "output_type": "stream",
     "text": [
      "Epoch 87, CIFAR-10 Batch 3:  Loss:     0.0051 Validation Accuracy: 0.644200\n",
      "Epoch 87, CIFAR-10 Batch 4:  Loss:     0.0191 Validation Accuracy: 0.644400\n",
      "Epoch 87, CIFAR-10 Batch 5:  Loss:     0.0225 Validation Accuracy: 0.648200\n",
      "Epoch 88, CIFAR-10 Batch 1:  Loss:     0.0238 Validation Accuracy: 0.644600\n",
      "Epoch 88, CIFAR-10 Batch 2:  Loss:     0.0070 Validation Accuracy: 0.635200\n",
      "Epoch 88, CIFAR-10 Batch 3:  Loss:     0.0091 Validation Accuracy: 0.643800\n",
      "Epoch 88, CIFAR-10 Batch 4:  Loss:     0.0150 Validation Accuracy: 0.649200\n",
      "Epoch 88, CIFAR-10 Batch 5:  Loss:     0.0116 Validation Accuracy: 0.647000\n",
      "Epoch 89, CIFAR-10 Batch 1:  Loss:     0.0074 Validation Accuracy: 0.634000\n",
      "Epoch 89, CIFAR-10 Batch 2:  Loss:     0.0079 Validation Accuracy: 0.637400\n",
      "Epoch 89, CIFAR-10 Batch 3:  Loss:     0.0163 Validation Accuracy: 0.649600\n",
      "Epoch 89, CIFAR-10 Batch 4:  Loss:     0.0054 Validation Accuracy: 0.650400\n",
      "Epoch 89, CIFAR-10 Batch 5:  Loss:     0.0064 Validation Accuracy: 0.642000\n",
      "Epoch 90, CIFAR-10 Batch 1:  Loss:     0.0077 Validation Accuracy: 0.643000\n",
      "Epoch 90, CIFAR-10 Batch 2:  Loss:     0.0113 Validation Accuracy: 0.634600\n",
      "Epoch 90, CIFAR-10 Batch 3:  Loss:     0.0067 Validation Accuracy: 0.644800\n",
      "Epoch 90, CIFAR-10 Batch 4:  Loss:     0.0250 Validation Accuracy: 0.640400\n",
      "Epoch 90, CIFAR-10 Batch 5:  Loss:     0.0064 Validation Accuracy: 0.642800\n",
      "Epoch 91, CIFAR-10 Batch 1:  Loss:     0.0138 Validation Accuracy: 0.641800\n",
      "Epoch 91, CIFAR-10 Batch 2:  Loss:     0.0056 Validation Accuracy: 0.640200\n",
      "Epoch 91, CIFAR-10 Batch 3:  Loss:     0.0139 Validation Accuracy: 0.648200\n",
      "Epoch 91, CIFAR-10 Batch 4:  Loss:     0.0045 Validation Accuracy: 0.647000\n",
      "Epoch 91, CIFAR-10 Batch 5:  Loss:     0.0102 Validation Accuracy: 0.649600\n",
      "Epoch 92, CIFAR-10 Batch 1:  Loss:     0.0119 Validation Accuracy: 0.642600\n",
      "Epoch 92, CIFAR-10 Batch 2:  Loss:     0.0050 Validation Accuracy: 0.637600\n",
      "Epoch 92, CIFAR-10 Batch 3:  Loss:     0.0149 Validation Accuracy: 0.642400\n",
      "Epoch 92, CIFAR-10 Batch 4:  Loss:     0.0085 Validation Accuracy: 0.648400\n",
      "Epoch 92, CIFAR-10 Batch 5:  Loss:     0.0152 Validation Accuracy: 0.652000\n",
      "Epoch 93, CIFAR-10 Batch 1:  Loss:     0.0068 Validation Accuracy: 0.649800\n",
      "Epoch 93, CIFAR-10 Batch 2:  Loss:     0.0049 Validation Accuracy: 0.640600\n",
      "Epoch 93, CIFAR-10 Batch 3:  Loss:     0.0082 Validation Accuracy: 0.647400\n",
      "Epoch 93, CIFAR-10 Batch 4:  Loss:     0.0046 Validation Accuracy: 0.653600\n",
      "Epoch 93, CIFAR-10 Batch 5:  Loss:     0.0124 Validation Accuracy: 0.644800\n",
      "Epoch 94, CIFAR-10 Batch 1:  Loss:     0.0114 Validation Accuracy: 0.646400\n",
      "Epoch 94, CIFAR-10 Batch 2:  Loss:     0.0064 Validation Accuracy: 0.644200\n",
      "Epoch 94, CIFAR-10 Batch 3:  Loss:     0.0105 Validation Accuracy: 0.648000\n",
      "Epoch 94, CIFAR-10 Batch 4:  Loss:     0.0031 Validation Accuracy: 0.653600\n",
      "Epoch 94, CIFAR-10 Batch 5:  Loss:     0.0043 Validation Accuracy: 0.648600\n",
      "Epoch 95, CIFAR-10 Batch 1:  Loss:     0.0241 Validation Accuracy: 0.647200\n",
      "Epoch 95, CIFAR-10 Batch 2:  Loss:     0.0038 Validation Accuracy: 0.649000\n",
      "Epoch 95, CIFAR-10 Batch 3:  Loss:     0.0073 Validation Accuracy: 0.647000\n",
      "Epoch 95, CIFAR-10 Batch 4:  Loss:     0.0154 Validation Accuracy: 0.649000\n",
      "Epoch 95, CIFAR-10 Batch 5:  Loss:     0.0119 Validation Accuracy: 0.642200\n",
      "Epoch 96, CIFAR-10 Batch 1:  Loss:     0.0058 Validation Accuracy: 0.648000\n",
      "Epoch 96, CIFAR-10 Batch 2:  Loss:     0.0103 Validation Accuracy: 0.645000\n",
      "Epoch 96, CIFAR-10 Batch 3:  Loss:     0.0097 Validation Accuracy: 0.652400\n",
      "Epoch 96, CIFAR-10 Batch 4:  Loss:     0.0115 Validation Accuracy: 0.652800\n",
      "Epoch 96, CIFAR-10 Batch 5:  Loss:     0.0067 Validation Accuracy: 0.651200\n",
      "Epoch 97, CIFAR-10 Batch 1:  Loss:     0.0088 Validation Accuracy: 0.650200\n",
      "Epoch 97, CIFAR-10 Batch 2:  Loss:     0.0070 Validation Accuracy: 0.643000\n",
      "Epoch 97, CIFAR-10 Batch 3:  Loss:     0.0081 Validation Accuracy: 0.649600\n",
      "Epoch 97, CIFAR-10 Batch 4:  Loss:     0.0068 Validation Accuracy: 0.650400\n",
      "Epoch 97, CIFAR-10 Batch 5:  Loss:     0.0107 Validation Accuracy: 0.640600\n",
      "Epoch 98, CIFAR-10 Batch 1:  Loss:     0.0058 Validation Accuracy: 0.650600\n",
      "Epoch 98, CIFAR-10 Batch 2:  Loss:     0.0069 Validation Accuracy: 0.642200\n",
      "Epoch 98, CIFAR-10 Batch 3:  Loss:     0.0029 Validation Accuracy: 0.645600\n",
      "Epoch 98, CIFAR-10 Batch 4:  Loss:     0.0069 Validation Accuracy: 0.649400\n",
      "Epoch 98, CIFAR-10 Batch 5:  Loss:     0.0098 Validation Accuracy: 0.638400\n",
      "Epoch 99, CIFAR-10 Batch 1:  Loss:     0.0099 Validation Accuracy: 0.642400\n",
      "Epoch 99, CIFAR-10 Batch 2:  Loss:     0.0069 Validation Accuracy: 0.641200\n",
      "Epoch 99, CIFAR-10 Batch 3:  Loss:     0.0078 Validation Accuracy: 0.650200\n",
      "Epoch 99, CIFAR-10 Batch 4:  Loss:     0.0080 Validation Accuracy: 0.652600\n",
      "Epoch 99, CIFAR-10 Batch 5:  Loss:     0.0058 Validation Accuracy: 0.644200\n",
      "Epoch 100, CIFAR-10 Batch 1:  Loss:     0.0056 Validation Accuracy: 0.638200\n",
      "Epoch 100, CIFAR-10 Batch 2:  Loss:     0.0089 Validation Accuracy: 0.641200\n",
      "Epoch 100, CIFAR-10 Batch 3:  Loss:     0.0037 Validation Accuracy: 0.641600\n",
      "Epoch 100, CIFAR-10 Batch 4:  Loss:     0.0086 Validation Accuracy: 0.647400\n",
      "Epoch 100, CIFAR-10 Batch 5:  Loss:     0.0088 Validation Accuracy: 0.651200\n"
     ]
    }
   ],
   "source": [
    "\n",
    "save_model_path = './image_classification'\n",
    "\n",
    "print('Training...')\n",
    "with tf.Session() as sess:\n",
    "    # Initializing the variables\n",
    "    sess.run(tf.global_variables_initializer())\n",
    "    \n",
    "    # Training cycle\n",
    "    for epoch in range(epochs):\n",
    "        # Loop over all batches\n",
    "        n_batches = 5\n",
    "        for batch_i in range(1, n_batches + 1):\n",
    "            for batch_features, batch_labels in helper.load_preprocess_training_batch(batch_i, batch_size):\n",
    "                train_neural_network(sess, optimizer, keep_probability, batch_features, batch_labels)\n",
    "            print('Epoch {:>2}, CIFAR-10 Batch {}:  '.format(epoch + 1, batch_i), end='')\n",
    "            print_stats(sess, batch_features, batch_labels, cost, accuracy)\n",
    "            \n",
    "    # Save Model\n",
    "    saver = tf.train.Saver()\n",
    "    save_path = saver.save(sess, save_model_path)"
   ]
  },
  {
   "cell_type": "markdown",
   "metadata": {},
   "source": [
    "\n",
    "## Test Model\n",
    "根据测试数据集测试模型。"
   ]
  },
  {
   "cell_type": "code",
   "execution_count": 25,
   "metadata": {},
   "outputs": [
    {
     "name": "stdout",
     "output_type": "stream",
     "text": [
      "INFO:tensorflow:Restoring parameters from ./image_classification\n",
      "Testing Accuracy: 0.6493275316455697\n",
      "\n"
     ]
    },
    {
     "data": {
      "image/png": "[encoded data removed]",
      "text/plain": [
       "<matplotlib.figure.Figure at 0x114281198>"
      ]
     },
     "metadata": {
      "image/png": {
       "height": 319,
       "width": 355
      }
     },
     "output_type": "display_data"
    }
   ],
   "source": [
    "\n",
    "%matplotlib inline\n",
    "%config InlineBackend.figure_format = 'retina'\n",
    "\n",
    "import tensorflow as tf\n",
    "import pickle\n",
    "import helper\n",
    "import random\n",
    "\n",
    "# Set batch size if not already set\n",
    "try:\n",
    "    if batch_size:\n",
    "        pass\n",
    "except NameError:\n",
    "    batch_size = 64\n",
    "\n",
    "save_model_path = './image_classification'\n",
    "n_samples = 4\n",
    "top_n_predictions = 3\n",
    "\n",
    "def test_model():\n",
    "    \"\"\"\n",
    "    Test the saved model against the test dataset\n",
    "    \"\"\"\n",
    "\n",
    "    test_features, test_labels = pickle.load(open('preprocess_test.p', mode='rb'))\n",
    "    loaded_graph = tf.Graph()\n",
    "\n",
    "    with tf.Session(graph=loaded_graph) as sess:\n",
    "        # Load model\n",
    "        loader = tf.train.import_meta_graph(save_model_path + '.meta')\n",
    "        loader.restore(sess, save_model_path)\n",
    "\n",
    "        # Get Tensors from loaded model\n",
    "        loaded_x = loaded_graph.get_tensor_by_name('x:0')\n",
    "        loaded_y = loaded_graph.get_tensor_by_name('y:0')\n",
    "        loaded_keep_prob = loaded_graph.get_tensor_by_name('keep_prob:0')\n",
    "        loaded_logits = loaded_graph.get_tensor_by_name('logits:0')\n",
    "        loaded_acc = loaded_graph.get_tensor_by_name('accuracy:0')\n",
    "        \n",
    "        # Get accuracy in batches for memory limitations\n",
    "        test_batch_acc_total = 0\n",
    "        test_batch_count = 0\n",
    "        \n",
    "        for test_feature_batch, test_label_batch in helper.batch_features_labels(test_features, test_labels, batch_size):\n",
    "            test_batch_acc_total += sess.run(\n",
    "                loaded_acc,\n",
    "                feed_dict={loaded_x: test_feature_batch, loaded_y: test_label_batch, loaded_keep_prob: 1.0})\n",
    "            test_batch_count += 1\n",
    "\n",
    "        print('Testing Accuracy: {}\\n'.format(test_batch_acc_total/test_batch_count))\n",
    "\n",
    "        # Print Random Samples\n",
    "        random_test_features, random_test_labels = tuple(zip(*random.sample(list(zip(test_features, test_labels)), n_samples)))\n",
    "        random_test_predictions = sess.run(\n",
    "            tf.nn.top_k(tf.nn.softmax(loaded_logits), top_n_predictions),\n",
    "            feed_dict={loaded_x: random_test_features, loaded_y: random_test_labels, loaded_keep_prob: 1.0})\n",
    "        helper.display_image_predictions(random_test_features, random_test_labels, random_test_predictions)\n",
    "\n",
    "\n",
    "test_model()"
   ]
  },
  {
   "cell_type": "markdown",
   "metadata": {},
   "source": []
  }
 ],
 "metadata": {
  "kernelspec": {
   "display_name": "Python 3",
   "language": "python",
   "name": "python3"
  },
  "language_info": {
   "codemirror_mode": {
    "name": "ipython",
    "version": 3
   },
   "file_extension": ".py",
   "mimetype": "text/x-python",
   "name": "python",
   "nbconvert_exporter": "python",
   "pygments_lexer": "ipython3",
   "version": "3.6.3"
  }
 },
 "nbformat": 4,
 "nbformat_minor": 1
}
