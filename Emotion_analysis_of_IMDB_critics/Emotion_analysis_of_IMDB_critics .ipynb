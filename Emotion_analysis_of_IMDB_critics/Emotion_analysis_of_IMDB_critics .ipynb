{
 "cells": [
  {
   "cell_type": "code",
   "execution_count": 1,
   "metadata": {},
   "outputs": [
    {
     "name": "stdout",
     "output_type": "stream",
     "text": [
      "Training Step: 7039  | total loss: \u001b[1m\u001b[32m0.04732\u001b[0m\u001b[0m | time: 76.039s\n",
      "| Adam | epoch: 010 | loss: 0.04732 - acc: 0.9866 -- iter: 22496/22500\n",
      "Training Step: 7040  | total loss: \u001b[1m\u001b[32m0.04975\u001b[0m\u001b[0m | time: 76.148s\n",
      "| Adam | epoch: 010 | loss: 0.04975 - acc: 0.9848 -- iter: 22500/22500\n",
      "--\n"
     ]
    }
   ],
   "source": [
    "\n",
    "import tflearn\n",
    "from tflearn.data_utils import to_categorical, pad_sequences\n",
    "from tflearn.datasets import imdb\n",
    "#从imdb数据库下载数据，选择路径path，n_word代表多少个单词作为词袋，验证集占比为valid_portion\n",
    "train, test,_ = imdb.load_data(path='imdb.pkl', n_words=10000, valid_portion=0.1)\n",
    "trainX, trainY = train \n",
    "testX, testY = test\n",
    "\n",
    "#转换成向量\n",
    "trainX = pad_sequences(trainX, maxlen=100, value=0.)\n",
    "testX = pad_sequences(testX, maxlen=100, value=0.)\n",
    "\n",
    "#将label进行one-hot\n",
    "trainY = to_categorical(trainY, nb_classes=2)\n",
    "testY= to_categorical(testY, nb_classes=2)\n",
    "\n",
    "#创建网络\n",
    "\n",
    "net = tflearn.input_data([None, 100])\n",
    "\n",
    "#如果有些离散对象自然被编码为离散的原子，例如独特的ID，它们不利于机器学习的使用和泛化。\n",
    "#可以理解embedding是将非矢量对象转换为机器学习处理的输入。\n",
    "#将100个输入转换为10000个id，再转化为128维的连续向量\n",
    "net = tflearn.embedding(net, input_dim=10000, output_dim=128)\n",
    "#lstm层  drop防止过拟合\n",
    "net = tflearn.lstm(net, 128, dropout=0.8)\n",
    "net = tflearn.fully_connected(net , 2, activation='softmax')\n",
    "net = tflearn.regression(net, optimizer='adam', learning_rate=0.001,loss='categorical_crossentropy')\n",
    "#构建模型\n",
    "# tensorboard需要的日志文件存储在/tmp/tflearn_logs中\n",
    "model = tflearn.DNN(net)\n",
    "#训练模型\n",
    "model.fit(trainX,trainY, show_metric=True,batch_size=32)"
   ]
  },
  {
   "cell_type": "code",
   "execution_count": null,
   "metadata": {
    "collapsed": true
   },
   "outputs": [],
   "source": []
  }
 ],
 "metadata": {
  "kernelspec": {
   "display_name": "Python 3",
   "language": "python",
   "name": "python3"
  },
  "language_info": {
   "codemirror_mode": {
    "name": "ipython",
    "version": 3
   },
   "file_extension": ".py",
   "mimetype": "text/x-python",
   "name": "python",
   "nbconvert_exporter": "python",
   "pygments_lexer": "ipython3",
   "version": "3.6.3"
  }
 },
 "nbformat": 4,
 "nbformat_minor": 2
}
